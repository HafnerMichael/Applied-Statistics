{
 "cells": [
  {
   "cell_type": "markdown",
   "source": [
    "# Excercise Sheet 9"
   ],
   "metadata": {
    "collapsed": false
   }
  },
  {
   "cell_type": "markdown",
   "source": [
    "### Exercise 31\n",
    "A florist buys easy perishable flowers from a wholesaler for 3 Euro per piece and sells the bought flowers for 7 Euro per piece. Each flower not sold on the first day is worthless and trashed.\n",
    "\n",
    "| k      | 0    | 1    | 2    | 3    | 4    | 5   | 6   | 7   | 8   | 9    | 10   | 11   | 12   | >12 |\n",
    "|--------|------|------|------|------|------|-----|-----|-----|-----|------|------|------|------|-----|\n",
    "| P[X=k] | 0.01 | 0.02 | 0.03 | 0.04 | 0.05 | 0.1 | 0.2 | 0.2 | 0.1 | 0.09 | 0.08 | 0.07 | 0.01 | 0.0 |\n",
    "\n",
    "Implement a simulation with the given requirements and run it for 1 year. Answer subsequent questions using a graphical visualisation:\n",
    "* How many flowers must the florist buy daily for maximizing the profit?\n",
    "* If the florist buys too many flowers a day, this will result in an expected loss. What is the corresponding threshold (number of flowers bought)?"
   ],
   "metadata": {
    "collapsed": false
   }
  },
  {
   "cell_type": "code",
   "execution_count": null,
   "outputs": [],
   "source": [
    "import warnings\n",
    "\n",
    "import matplotlib.pyplot as plt\n",
    "import numpy as np\n",
    "import scipy.stats as stats\n",
    "from scipy.stats import shapiro, wilcoxon, ttest_rel\n",
    "\n",
    "# Ignoring warnings\n",
    "warnings.filterwarnings('ignore')"
   ],
   "metadata": {
    "collapsed": false
   }
  },
  {
   "cell_type": "code",
   "execution_count": null,
   "outputs": [],
   "source": [
    "def demand():\n",
    "    p = [0.01, 0.02, 0.03, 0.04, 0.05, 0.1, 0.2, 0.2, 0.1, 0.09, 0.08, 0.07, 0.01]\n",
    "    mydist = stats.multinomial(n=1, p=p)\n",
    "    return int(np.where(mydist.rvs(1) == 1)[1])\n",
    "\n",
    "\n",
    "def simu(flowers):\n",
    "    bought_price = 3\n",
    "    sell_price = 7\n",
    "    win = -bought_price * flowers\n",
    "    a_demand = demand()  # how many flowers where requested\n",
    "    if a_demand <= flowers:\n",
    "        win = win + sell_price * a_demand  #sell them\n",
    "    else:\n",
    "        win = win + sell_price * flowers  # sell them all\n",
    "    return win\n",
    "\n",
    "\n",
    "def control(buy, n):\n",
    "    sample = [simu(buy) for _ in range(n)]\n",
    "    return sample"
   ],
   "metadata": {
    "collapsed": false
   }
  },
  {
   "cell_type": "code",
   "execution_count": null,
   "outputs": [],
   "source": [
    "# determine the maximum profit\n",
    "wins = np.zeros(100)\n",
    "for i in range(100):\n",
    "    wins[i] = np.mean(control(i, 10000))\n",
    "max_win = wins.argmax(axis=0)\n",
    "print(f'Maximum profit with {max_win} flowers bought daily')"
   ],
   "metadata": {
    "collapsed": false
   }
  },
  {
   "cell_type": "code",
   "execution_count": null,
   "outputs": [],
   "source": [
    "# plot the wins\n",
    "plt.plot(wins[:30])\n",
    "#red line at 7\n",
    "plt.axvline(x=7, color='r', linestyle='--')\n",
    "#green line at 0\n",
    "plt.axhline(y=0, color='black', linestyle='--')\n",
    "\n",
    "\n",
    "#determine upper threshold for flowers to buy\n",
    "def zero_crossing(wins):\n",
    "    for i in range(1, len(wins) - 1):\n",
    "        if wins[i] < 0 and wins[i - 1] > 0:\n",
    "            return i - 1\n",
    "    return -1\n",
    "\n",
    "\n",
    "upper_threshold = zero_crossing(wins)\n",
    "print(f'Upper limit of flowers to buy: {upper_threshold}')\n",
    "\n",
    "plt.axvline(x=upper_threshold, color='g', linestyle='--')\n",
    "plt.show()"
   ],
   "metadata": {
    "collapsed": false
   }
  },
  {
   "cell_type": "markdown",
   "source": [
    "### Excercise 32\n",
    "Use your implementation of the previous example and graphically visualize the confidence interval in dependency of the number of simulated days (plot the mean profit, upper and lower CI). How many days must the number of simulated days be in order to reach an accuracy of the estimator of ±1% with a 99% confidence?"
   ],
   "metadata": {
    "collapsed": false
   }
  },
  {
   "cell_type": "code",
   "execution_count": null,
   "outputs": [],
   "source": [
    "# Determine the right n for the control function\n",
    "def determine_n():\n",
    "    alpha = 0.01\n",
    "    confidence = 0.99\n",
    "    n_target = (stats.norm.ppf(1 - ((1 - confidence) / 2)) / (alpha * 2)) ** 2\n",
    "    return int(np.ceil(n_target))\n",
    "\n",
    "\n",
    "n = determine_n()\n",
    "print(f'Number of simulated days needed for 99% confidence and 1% accuracy: {n}')"
   ],
   "metadata": {
    "collapsed": false
   }
  },
  {
   "cell_type": "code",
   "execution_count": null,
   "outputs": [],
   "source": [
    "# INDIVIDUALLY ADD ADDITIONAL TESTS WITH DIFFERENT N!!\n",
    "l_arr = []\n",
    "mu_arr = []\n",
    "trails = [500, 5000, 10000, n]\n",
    "for number in trails:\n",
    "    alpha = 0.01\n",
    "    confidence = 0.99\n",
    "\n",
    "    # inv phi\n",
    "    k = stats.t.ppf(1 - (alpha / 2), number - 1)\n",
    "\n",
    "    result = control(max_win, number)\n",
    "\n",
    "    # Sample mean\n",
    "    mu_hat = np.mean(result)\n",
    "    mu_arr.append(mu_hat)\n",
    "    sigma = np.std(result, ddof=1)\n",
    "    l = (k * sigma / (np.sqrt(number)))\n",
    "    l_arr.append(l)\n",
    "    ci_lower = mu_hat - l\n",
    "    ci_upper = mu_hat + l\n",
    "    print(f'N: {number}')\n",
    "    print('Lower ci boundry: {:.2f}'.format(ci_lower))\n",
    "    print('Upper ci boundry: {:.2f}'.format(ci_upper))"
   ],
   "metadata": {
    "collapsed": false
   }
  },
  {
   "cell_type": "code",
   "execution_count": null,
   "outputs": [],
   "source": [
    "import matplotlib.pyplot as plt\n",
    "import numpy as np\n",
    "\n",
    "# Plotting the bar plot with CI\n",
    "plt.bar(trails, mu_arr, yerr=l_arr, capsize=10, width=3500)\n",
    "\n",
    "# Adding labels and title\n",
    "plt.xlabel('X-axis')\n",
    "plt.ylabel('Y-axis')\n",
    "plt.title('Bar Plot with Confidence Intervals')\n",
    "\n",
    "# Displaying the plot\n",
    "plt.show()"
   ],
   "metadata": {
    "collapsed": false
   }
  },
  {
   "cell_type": "markdown",
   "source": [
    "### Exercise 33\n",
    "The flower shop from exercise 31 builds a cold storage. Hence, the shop is able to sell flowers for one single day after they were purchased for a price of 5 Euro, but only if all flowers (the ones purchased for the day) already have been sold and there is further demand.\n",
    "Analyze if the introduction of the cold storage did cause a significant change on the profits expectation value at a daily flower purchase of 5 or 10 flowers (1% level of significance). At what approximate sample size (number of simulated days) is the statistical test able to recognize the additional returns? Justify the choice of the appropriate statistical test."
   ],
   "metadata": {
    "collapsed": false
   }
  },
  {
   "cell_type": "code",
   "execution_count": null,
   "outputs": [],
   "source": [
    "LEFT_OVER_PREV_DAY = 0\n",
    "def simu_old_flowers(flowers):\n",
    "    global LEFT_OVER_PREV_DAY\n",
    "    bought_price = 3\n",
    "    sell_price = 7\n",
    "    sell_price_old = 5\n",
    "    win = -bought_price * flowers\n",
    "    a_demand = demand()  # how many flowers where requested\n",
    "\n",
    "    if a_demand <= flowers:\n",
    "        win = win + sell_price * a_demand  #sell them\n",
    "        left_flowers = flowers - a_demand\n",
    "        LEFT_OVER_PREV_DAY = left_flowers\n",
    "    else:\n",
    "        win = win + sell_price * flowers  # sell them all\n",
    "        remaining_demand = a_demand - flowers\n",
    "        if remaining_demand <= LEFT_OVER_PREV_DAY:\n",
    "            win = win + sell_price_old * remaining_demand  #sell the remaining demand with reduced price\n",
    "        else:\n",
    "            win = win + sell_price_old * LEFT_OVER_PREV_DAY  #sell all old flowers\n",
    "    return win\n",
    "\n",
    "\n",
    "def control_old_flowers(buy, n):\n",
    "    sample = [simu_old_flowers(buy) for _ in range(n)]\n",
    "    return sample"
   ],
   "metadata": {
    "collapsed": false
   }
  },
  {
   "cell_type": "code",
   "execution_count": null,
   "outputs": [],
   "source": [
    "# determine the maximum profit\n",
    "wins_old = np.zeros(100)\n",
    "for i in range(100):\n",
    "    wins_old[i] = np.mean(control_old_flowers(i, 10000))\n",
    "max_win_old_flowers = wins_old.argmax(axis=0)\n",
    "print(f'Maximum profit with {max_win_old_flowers} flowers bought daily')"
   ],
   "metadata": {
    "collapsed": false
   }
  },
  {
   "cell_type": "code",
   "execution_count": null,
   "outputs": [],
   "source": [
    "# plot the wins\n",
    "plt.plot(wins[:30], c='blue')\n",
    "plt.plot(wins_old[:30], c='red')\n",
    "#red line at 7\n",
    "plt.axvline(x=max_win_old_flowers, color='r', linestyle='--')\n",
    "#green line at 0\n",
    "plt.axhline(y=max_win, color='black', linestyle='--')\n",
    "plt.show()"
   ],
   "metadata": {
    "collapsed": false
   }
  },
  {
   "cell_type": "markdown",
   "source": [
    "#### Statistical Test (real assignment)"
   ],
   "metadata": {
    "collapsed": false
   }
  },
  {
   "cell_type": "markdown",
   "source": [
    "##### Declare the 2 datasets for testing (with high number of n)"
   ],
   "metadata": {
    "collapsed": false
   }
  },
  {
   "cell_type": "code",
   "execution_count": null,
   "outputs": [],
   "source": [
    "result_no_old_flowers_5 = control(5, 100_000)\n",
    "results_old_flowers_5 = control_old_flowers(5, 100_000)\n",
    "\n",
    "result_no_old_flowers_10 = control(10, 100_000)\n",
    "results_old_flowers_10 = control_old_flowers(10, 100_000)"
   ],
   "metadata": {
    "collapsed": false
   }
  },
  {
   "cell_type": "code",
   "execution_count": null,
   "outputs": [],
   "source": [
    "def h0_check_profits_different(result_no_old_flowers, results_old_flowers, outputs_on=True):\n",
    "    # paired observations (before and after) for the same group of individuals --> paired t-test\n",
    "\n",
    "    #check for normal distribution\n",
    "    _, p_b = shapiro(results_old_flowers)\n",
    "    _, p_a = shapiro(result_no_old_flowers)\n",
    "    # interpret\n",
    "    alpha = 0.05\n",
    "    if p_b > alpha and p_a > alpha:\n",
    "        # Perform the paired t-test\n",
    "        if outputs_on: print('Data looks normal distributed')\n",
    "        t_statistic, p_value = ttest_rel(results_old_flowers, result_no_old_flowers)\n",
    "    else:\n",
    "        if outputs_on: print('Data not normal distributed')\n",
    "        p_value = wilcoxon(results_old_flowers, result_no_old_flowers).pvalue\n",
    "\n",
    "    # Set the significance level\n",
    "    significance_level = 0.01\n",
    "\n",
    "    if outputs_on: print('p = ', p_value, \" | a = \", significance_level)\n",
    "\n",
    "    # Compare the p-value with the significance level\n",
    "    # Ho = The cold storage does not change the profits\n",
    "    if p_value < significance_level:\n",
    "        if outputs_on: print(\"Reject the null hypothesis. The cold storage makes the profits significantly different.\")\n",
    "        return True\n",
    "    else:\n",
    "        if outputs_on: print(\"Fail to reject the null hypothesis. The cold storage makes the profits not significantly different\")\n",
    "        return False"
   ],
   "metadata": {
    "collapsed": false
   }
  },
  {
   "cell_type": "code",
   "execution_count": null,
   "outputs": [],
   "source": [
    "test_days = range(3, 100_000)"
   ],
   "metadata": {
    "collapsed": false
   }
  },
  {
   "cell_type": "code",
   "execution_count": null,
   "outputs": [],
   "source": [
    "#5 FLOWERS\n",
    "print('Check the null hypothesis with 5 flowers and determine n where it gets rejected')\n",
    "result_5 = 0\n",
    "for days in test_days:\n",
    "    is_rejected = h0_check_profits_different(result_no_old_flowers_5[:days], results_old_flowers_5[:days], False)\n",
    "    if is_rejected:\n",
    "        result_5 = days\n",
    "        print(f'Result n for rejecting the H0 with 5 flowers: {result_5}')\n",
    "        break\n",
    "if not is_rejected:\n",
    "    print('Range was not enough, or no difference determinable!')"
   ],
   "metadata": {
    "collapsed": false
   }
  },
  {
   "cell_type": "code",
   "execution_count": null,
   "outputs": [],
   "source": [
    "#10 FLOWERS\n",
    "print('Check the null hypothesis with 10 flowers and determine n where it gets rejected')\n",
    "result_10 = 0\n",
    "for days in test_days:\n",
    "    is_rejected = h0_check_profits_different(result_no_old_flowers_10[:days], results_old_flowers_10[:days], False)\n",
    "    if is_rejected:\n",
    "        result_10 = days\n",
    "        print(f'Result n for rejecting the H0 with 10 flowers: {result_10}')\n",
    "        break\n",
    "if not is_rejected:\n",
    "    print('Range was not enough, or no difference determinable!')"
   ],
   "metadata": {
    "collapsed": false
   }
  }
 ],
 "metadata": {
  "kernelspec": {
   "display_name": "Python 3",
   "language": "python",
   "name": "python3"
  },
  "language_info": {
   "codemirror_mode": {
    "name": "ipython",
    "version": 2
   },
   "file_extension": ".py",
   "mimetype": "text/x-python",
   "name": "python",
   "nbconvert_exporter": "python",
   "pygments_lexer": "ipython2",
   "version": "2.7.6"
  }
 },
 "nbformat": 4,
 "nbformat_minor": 0
}
