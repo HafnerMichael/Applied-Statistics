{
 "cells": [
  {
   "cell_type": "markdown",
   "source": [
    "# Excercise Sheet 9"
   ],
   "metadata": {
    "collapsed": false
   }
  },
  {
   "cell_type": "markdown",
   "source": [
    "### Exercise 31\n",
    "A florist buys easy perishable flowers from a wholesaler for 3 Euro per piece and sells the bought flowers for 7 Euro per piece. Each flower not sold on the first day is worthless and trashed.\n",
    "\n",
    "| k       | 0       | 1       | 2       | 3       | 4       | 5       | 6       |\n",
    "|---------|---------|---------|---------|---------|---------|---------|---------|\n",
    "| P[X=k]  | 0.01    | 0.02    | 0.03    | 0.04    | 0.05    | 0.1     | 0.2     |\n",
    "| k       | 7       | 8       | 9       | 10      | 11      | 12      | >12     |\n",
    "| ------- | ------- | ------- | ------- | ------- | ------- | ------- | ------- |\n",
    "| P[X=k]  | 0.2     | 0.1     | 0.09    | 0.08    | 0.07    | 0.01    | 0.0     |\n",
    "\n",
    "Implement a simulation with the given requirements and run it for 1 year. Answer subsequent questions using a graphical visualisation:\n",
    "* How many flowers must the florist buy daily for maximizing the profit?\n",
    "* If the florist buys too many flowers a day, this will result in an expected loss. What is the corresponding threshold (number of flowers bought)?"
   ],
   "metadata": {
    "collapsed": false
   }
  },
  {
   "cell_type": "code",
   "execution_count": null,
   "outputs": [],
   "source": [
    "import matplotlib.pyplot as plt\n",
    "import numpy as np\n",
    "import scipy.stats as stats\n",
    "from scipy.stats import ttest_ind, shapiro, mannwhitneyu, ttest_1samp, wilcoxon"
   ],
   "metadata": {
    "collapsed": false
   }
  },
  {
   "cell_type": "code",
   "execution_count": null,
   "outputs": [],
   "source": [
    "def demand():\n",
    "    p = [0.01, 0.02, 0.03, 0.04, 0.05, 0.1, 0.2, 0.2, 0.1, 0.09, 0.08, 0.07, 0.01]\n",
    "    mydist = stats.multinomial(n=1, p=p)\n",
    "    return int(np.where(mydist.rvs(1) == 1)[1])\n",
    "\n",
    "\n",
    "def simu(flowers):\n",
    "    bought_price = 3\n",
    "    sell_price = 7\n",
    "    win = -bought_price * flowers\n",
    "    a_demand = demand()  # how many flowers where requested\n",
    "    if a_demand <= flowers:\n",
    "        win = win + sell_price * a_demand  #sell them\n",
    "    else:\n",
    "        win = win + sell_price * flowers  # sell them all\n",
    "    return win\n",
    "\n",
    "\n",
    "def control(buy, n):\n",
    "    sample = [simu(buy) for _ in range(n)]\n",
    "    return sample"
   ],
   "metadata": {
    "collapsed": false
   }
  },
  {
   "cell_type": "code",
   "execution_count": null,
   "outputs": [],
   "source": [
    "# determine the maximum profit\n",
    "wins = np.zeros(100)\n",
    "for i in range(100):\n",
    "    wins[i] = np.mean(control(i, 10000))\n",
    "max_win = wins.argmax(axis=0)\n",
    "print(f'Maximum profit with {max_win} flowers bought daily')"
   ],
   "metadata": {
    "collapsed": false
   }
  },
  {
   "cell_type": "code",
   "execution_count": null,
   "outputs": [],
   "source": [
    "# plot the wins\n",
    "plt.plot(wins[:30])\n",
    "#red line at 7\n",
    "plt.axvline(x=7, color='r', linestyle='--')\n",
    "#green line at 0\n",
    "plt.axhline(y=0, color='black', linestyle='--')\n",
    "\n",
    "\n",
    "#determine upper threshold for flowers to buy\n",
    "def zero_crossing(wins):\n",
    "    for i in range(1, len(wins) - 1):\n",
    "        if wins[i] < 0 and wins[i - 1] > 0:\n",
    "            return i - 1\n",
    "    return -1\n",
    "\n",
    "\n",
    "upper_threshold = zero_crossing(wins)\n",
    "print(f'Upper limit of flowers to buy: {upper_threshold}')\n",
    "\n",
    "plt.axvline(x=upper_threshold, color='g', linestyle='--')\n",
    "plt.show()"
   ],
   "metadata": {
    "collapsed": false
   }
  },
  {
   "cell_type": "markdown",
   "source": [
    "### Excercise 32\n",
    "Use your implementation of the previous example and graphically visualize the confidence interval in dependency of the number of simulated days (plot the mean profit, upper and lower CI). How many days must the number of simulated days be in order to reach an accuracy of the estimator of ±1% with a 99% confidence?"
   ],
   "metadata": {
    "collapsed": false
   }
  },
  {
   "cell_type": "code",
   "execution_count": null,
   "outputs": [],
   "source": [
    "# Determine the right n for the control function\n",
    "def determine_n():\n",
    "    alpha = 0.01\n",
    "    confidence = 0.99\n",
    "    n_target = (stats.norm.ppf(1 - ((1 - confidence) / 2)) / (alpha * 2)) ** 2\n",
    "    return int(np.ceil(n_target))\n",
    "\n",
    "\n",
    "n = determine_n()\n",
    "print(f'Number of simulated days needed for 99% confidence and 1% accuracy: {n}')"
   ],
   "metadata": {
    "collapsed": false
   }
  },
  {
   "cell_type": "code",
   "execution_count": null,
   "outputs": [],
   "source": [
    "# INDIVIDUALLY ADD ADDITIONAL TESTS WITH DIFFERENT N!!\n",
    "l_arr = []\n",
    "mu_arr = []\n",
    "trails = [500, 5000, 10000, n]\n",
    "for number in trails:\n",
    "    alpha = 0.01\n",
    "    confidence = 0.99\n",
    "\n",
    "    # inv phi\n",
    "    k = stats.t.ppf(1 - (alpha / 2), number - 1)\n",
    "\n",
    "    result = control(max_win, number)\n",
    "\n",
    "    # Sample mean\n",
    "    mu_hat = np.mean(result)\n",
    "    mu_arr.append(mu_hat)\n",
    "    sigma = np.std(result, ddof=1)\n",
    "    l = (k * sigma / (np.sqrt(number)))\n",
    "    l_arr.append(l)\n",
    "    ci_lower = mu_hat - l\n",
    "    ci_upper = mu_hat + l\n",
    "    print(f'N: {number}')\n",
    "    print('Lower ci boundry: {:.2f}'.format(ci_lower))\n",
    "    print('Upper ci boundry: {:.2f}'.format(ci_upper))"
   ],
   "metadata": {
    "collapsed": false
   }
  },
  {
   "cell_type": "code",
   "execution_count": null,
   "outputs": [],
   "source": [
    "import matplotlib.pyplot as plt\n",
    "import numpy as np\n",
    "\n",
    "# Plotting the bar plot with CI\n",
    "plt.bar(trails, mu_arr, yerr=l_arr, capsize=10, width=3500)\n",
    "\n",
    "# Adding labels and title\n",
    "plt.xlabel('X-axis')\n",
    "plt.ylabel('Y-axis')\n",
    "plt.title('Bar Plot with Confidence Intervals')\n",
    "\n",
    "# Displaying the plot\n",
    "plt.show()"
   ],
   "metadata": {
    "collapsed": false
   }
  },
  {
   "cell_type": "markdown",
   "source": [
    "### Exercise 33\n",
    "The flower shop from exercise 31 builds a cold storage. Hence, the shop is able to sell flowers for one single day after they were purchased for a price of 5 Euro, but only if all flowers (the ones purchased for the day) already have been sold and there is further demand.\n",
    "Analyze if the introduction of the cold storage did cause a significant change on the profits expectation value at a daily flower purchase of 5 or 10 flowers (1% level of significance). At what approximate sample size (number of simulated days) is the statistical test able to recognize the additional returns? Justify the choice of the appropriate statistical test."
   ],
   "metadata": {
    "collapsed": false
   }
  },
  {
   "cell_type": "code",
   "execution_count": null,
   "outputs": [],
   "source": [
    "LEFT_OVER_PREV_DAY = 0\n",
    "def simu_old_flowers(flowers):\n",
    "    global LEFT_OVER_PREV_DAY\n",
    "    bought_price = 3\n",
    "    sell_price = 7\n",
    "    sell_price_old = 5\n",
    "    win = -bought_price * flowers\n",
    "    a_demand = demand()  # how many flowers where requested\n",
    "\n",
    "    if a_demand <= flowers:\n",
    "        win = win + sell_price * a_demand  #sell them\n",
    "        left_flowers = flowers - a_demand\n",
    "        LEFT_OVER_PREV_DAY = left_flowers\n",
    "    else:\n",
    "        win = win + sell_price * flowers  # sell them all\n",
    "        remaining_demand = a_demand - flowers\n",
    "        if remaining_demand <= LEFT_OVER_PREV_DAY:\n",
    "            win = win + sell_price_old * remaining_demand  #sell the remaining demand with reduced price\n",
    "        else:\n",
    "            win = win + sell_price_old * LEFT_OVER_PREV_DAY  #sell all old flowers\n",
    "    return win\n",
    "\n",
    "\n",
    "def control_old_flowers(buy, n):\n",
    "    sample = [simu_old_flowers(buy) for _ in range(n)]\n",
    "    return sample"
   ],
   "metadata": {
    "collapsed": false
   }
  },
  {
   "cell_type": "code",
   "execution_count": null,
   "outputs": [],
   "source": [
    "# determine the maximum profit\n",
    "wins_old = np.zeros(100)\n",
    "for i in range(3, 100):\n",
    "    wins_old[i] = np.mean(control_old_flowers(i, 10000))\n",
    "max_win_old_flowers = wins_old.argmax(axis=0)\n",
    "print(f'Maximum profit with {max_win_old_flowers} flowers bought daily')"
   ],
   "metadata": {
    "collapsed": false
   }
  },
  {
   "cell_type": "code",
   "execution_count": null,
   "outputs": [],
   "source": [
    "# plot the wins\n",
    "plt.plot(wins[:30], c='blue')\n",
    "plt.plot(wins_old[:30], c='red')\n",
    "#red line at 7\n",
    "plt.axvline(x=max_win_old_flowers, color='r', linestyle='--')\n",
    "#green line at 0\n",
    "plt.axhline(y=max_win, color='black', linestyle='--')\n",
    "plt.show()"
   ],
   "metadata": {
    "collapsed": false
   }
  },
  {
   "cell_type": "markdown",
   "source": [
    "#### Statistical Test (real assignment)"
   ],
   "metadata": {
    "collapsed": false
   }
  },
  {
   "cell_type": "code",
   "execution_count": null,
   "outputs": [],
   "source": [
    "def h0_check_profits_different(flowers, n, outputs_on=True):\n",
    "    result_no_old_flowers = control_old_flowers(flowers, n)\n",
    "    results_old_flowers = control_old_flowers(flowers, n)\n",
    "\n",
    "    #check for normal distribution\n",
    "    _, p_b = shapiro(results_old_flowers)\n",
    "    _, p_a = shapiro(result_no_old_flowers)\n",
    "    # interpret\n",
    "    alpha = 0.05\n",
    "    if p_b > alpha and p_a > alpha:\n",
    "        # Perform the paired t-test\n",
    "        if outputs_on: print('Data looks normal distributed')\n",
    "        t_statistic, p_value = ttest_ind(results_old_flowers, result_no_old_flowers)\n",
    "    else:\n",
    "        if outputs_on: print('Data not normal distributed')\n",
    "        p_value = mannwhitneyu(results_old_flowers, result_no_old_flowers).pvalue\n",
    "\n",
    "    # Set the significance level\n",
    "    significance_level = 0.01\n",
    "\n",
    "    if outputs_on: print('p = ', p_value, \" | a = \", significance_level)\n",
    "\n",
    "    # Compare the p-value with the significance level\n",
    "    # Ho = The cold storage does not change the profits\n",
    "    if p_value < significance_level:\n",
    "        if outputs_on: print(\"Reject the null hypothesis. The cold storage makes the profits significantly different.\")\n",
    "    else:\n",
    "        if outputs_on: print(\"Fail to reject the null hypothesis. The cold storage makes the profits not significantly different\")\n",
    "    return p_value"
   ],
   "metadata": {
    "collapsed": false
   }
  },
  {
   "cell_type": "code",
   "execution_count": null,
   "outputs": [],
   "source": [
    "# I compare the two columns and analyse if equal of significantly different --> Quantitative\n",
    "# 2 independent groups --> 2 unpaired groups\n",
    "\n",
    "#5 FLOWERS\n",
    "print('Check the null hypothesis with 5 flowers and 1000 samples')\n",
    "h0_check_profits_different(5, 1000)"
   ],
   "metadata": {
    "collapsed": false
   }
  },
  {
   "cell_type": "code",
   "execution_count": null,
   "outputs": [],
   "source": [
    "#10 FLOWERS\n",
    "print('Check the null hypothesis with 10 flowers and 1000 samples')\n",
    "h0_check_profits_different(10, 1000)"
   ],
   "metadata": {
    "collapsed": false
   }
  },
  {
   "cell_type": "code",
   "execution_count": null,
   "outputs": [],
   "source": [
    "## NOT SURE IF THIS IS NEEDED!!!!!\n",
    "def h0_check_of_prev_test(p_values, outputs_on=True):\n",
    "    # we have a 1 group\n",
    "\n",
    "    #check for normal distribution\n",
    "    _, p = shapiro(p_values)\n",
    "\n",
    "    # Set the null hypothesis mean to 1140\n",
    "    null_hypothesis_mean = 0.01\n",
    "\n",
    "    # interpret\n",
    "    alpha = 0.05\n",
    "    if p > alpha:\n",
    "        # Perform the one-sample t-test\n",
    "        if outputs_on: print('Data looks normal distributed')\n",
    "        t_statistic, p_value = ttest_1samp(p_values, null_hypothesis_mean)\n",
    "    else:\n",
    "        if outputs_on: print('Data not normal distributed')\n",
    "        p_value = wilcoxon(np.array(p_values) - null_hypothesis_mean).pvalue\n",
    "\n",
    "\n",
    "\n",
    "    # Set the significance level\n",
    "    significance_level = 0.1\n",
    "    if outputs_on: print('p = ', p_value)\n",
    "    # Ho = Out of the previous statistical tests the null hypothesis should be rejected\n",
    "    if p_value < significance_level:\n",
    "        if outputs_on: print(\"Reject the null hypothesis\")\n",
    "        if outputs_on: print(f\"With a significance of 10% the previous null hypothesis should not be rejected\")\n",
    "        return False\n",
    "    else:\n",
    "        if outputs_on: print(\"Fail to reject the null hypothesis\")\n",
    "        if outputs_on: print(f\"With a significance of 10% the previous null hypothesis should be rejected.\")\n",
    "        return True"
   ],
   "metadata": {
    "collapsed": false
   }
  },
  {
   "cell_type": "code",
   "execution_count": null,
   "outputs": [],
   "source": [
    "# HOW CAN THE CHECK OF N BE DONE CORRECTLY????\n",
    "# 5 Flowers\n",
    "for days in (range(3, 10000)):\n",
    "    p_values = [h0_check_profits_different(5, days, False) for _ in range(1000)]\n",
    "    is_rejected = h0_check_of_prev_test(p_values, False)\n",
    "    if is_rejected:\n",
    "        result_5 = days\n",
    "        break\n",
    "print(f'Result n for rejecting the H0 with 5 flowers: {result_5}')"
   ],
   "metadata": {
    "collapsed": false
   }
  },
  {
   "cell_type": "code",
   "execution_count": null,
   "outputs": [],
   "source": [
    "# HOW CAN THE CHECK OF N BE DONE CORRECTLY????\n",
    "# 10 Flowers\n",
    "result_10 = 0\n",
    "for days in (range(100, 10000)):\n",
    "    p_values = [h0_check_profits_different(10, days, False) for _ in range(50)]\n",
    "    is_rejected = h0_check_of_prev_test(p_values, False)\n",
    "    if is_rejected:\n",
    "        result_10 = days\n",
    "        break\n",
    "print(f'Result n for rejecting the H0 with 10 flowers: {result_10}')"
   ],
   "metadata": {
    "collapsed": false
   }
  }
 ],
 "metadata": {
  "kernelspec": {
   "display_name": "Python 3",
   "language": "python",
   "name": "python3"
  },
  "language_info": {
   "codemirror_mode": {
    "name": "ipython",
    "version": 2
   },
   "file_extension": ".py",
   "mimetype": "text/x-python",
   "name": "python",
   "nbconvert_exporter": "python",
   "pygments_lexer": "ipython2",
   "version": "2.7.6"
  }
 },
 "nbformat": 4,
 "nbformat_minor": 0
}
