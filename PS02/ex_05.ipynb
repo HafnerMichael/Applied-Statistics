{
 "cells": [
  {
   "cell_type": "code",
   "execution_count": null,
   "metadata": {
    "collapsed": true
   },
   "outputs": [],
   "source": [
    "import matplotlib.pyplot as plt\n",
    "import matplotlib.transforms as transforms\n",
    "import numpy as np\n",
    "import pandas as pd\n",
    "from sklearn.cluster import KMeans\n",
    "from scipy.stats import norm, gaussian_kde\n",
    "import KDEpy\n",
    "from yellowbrick.cluster import KElbowVisualizer, SilhouetteVisualizer"
   ]
  },
  {
   "cell_type": "code",
   "execution_count": null,
   "outputs": [],
   "source": [
    "data = pd.read_csv('data_KDE_2D.csv')\n",
    "data"
   ],
   "metadata": {
    "collapsed": false
   }
  },
  {
   "cell_type": "code",
   "execution_count": null,
   "outputs": [],
   "source": [
    "print(\"Data Describe:\\r\\n\", data.describe())\n",
    "print(\"\\r\\nData Head:\\r\\n\", data.head())\n",
    "\n",
    "xval = np.arange(len(data.index))\n",
    "plt.scatter(data['X'], data['Y'])"
   ],
   "metadata": {
    "collapsed": false
   }
  },
  {
   "cell_type": "markdown",
   "source": [
    "#### Find an appropriate k for KMeans clustering: Method seen [towardsdatascience](https://towardsdatascience.com/elbow-method-is-not-sufficient-to-find-best-k-in-k-means-clustering-fc820da0631d)"
   ],
   "metadata": {
    "collapsed": false
   }
  },
  {
   "cell_type": "code",
   "execution_count": null,
   "outputs": [],
   "source": [
    "# Instantiate the clustering model and visualizer\n",
    "km = KMeans(random_state=42)\n",
    "visualizer = KElbowVisualizer(km, k=(2,10))\n",
    "\n",
    "visualizer.fit(data)        # Fit the data to the visualizer\n",
    "visualizer.show()        # Finalize and render the figure"
   ],
   "metadata": {
    "collapsed": false
   }
  },
  {
   "cell_type": "markdown",
   "source": [
    "### No clear elbow point can be found! Let´s try the silhouette method. (Observing datapoints by eye: k should be around 2)"
   ],
   "metadata": {
    "collapsed": false
   }
  },
  {
   "cell_type": "code",
   "execution_count": null,
   "outputs": [],
   "source": [
    "fig, ax = plt.subplots(3, 2, figsize=(15,8))\n",
    "for i in [2, 3, 4, 5, 6, 7]:\n",
    "    '''\n",
    "    Create KMeans instances for different number of clusters\n",
    "    '''\n",
    "    km = KMeans(n_clusters=i, init='k-means++', n_init=10, max_iter=100, random_state=42)\n",
    "    q, mod = divmod(i, 2)\n",
    "    '''\n",
    "    Create SilhouetteVisualizer instance with KMeans instance\n",
    "    Fit the visualizer\n",
    "    '''\n",
    "    visualizer = SilhouetteVisualizer(km, colors='yellowbrick', ax=ax[q-1][mod])\n",
    "    visualizer.fit(data)\n",
    "\n",
    "\"\"\"\n",
    "The following conditions should be checked to pick the right ‘K’ using the Silhouette plots:\n",
    "\n",
    "1.  For a particular K, all the clusters should have a Silhouette score more than the average score of the dataset (represented by a red dotted line).\n",
    "    The x-axis represents the Silhouette score. (Hold for all cluster!)\n",
    "2.  There should not be wide fluctuations in the size of the clusters. The width of the clusters represents the number of data points.\n",
    "    For K = 2, the best fit is shown, since other ks vary in size\n",
    "\"\"\""
   ],
   "metadata": {
    "collapsed": false
   }
  },
  {
   "cell_type": "code",
   "execution_count": null,
   "outputs": [],
   "source": [
    "# So take k=2\n",
    "\n",
    "kmean = KMeans(n_clusters=2).fit(data)\n",
    "labels = kmean.predict(data)\n",
    "data['label'] = labels\n",
    "plt.scatter(data['X'], data['Y'], cmap='viridis', c=labels)\n",
    "plt.show()"
   ],
   "metadata": {
    "collapsed": false
   }
  },
  {
   "cell_type": "code",
   "execution_count": null,
   "outputs": [],
   "source": [
    "x = data['X']\n",
    "y = data['Y']\n",
    "\n",
    "# Generate 2D histogram (H contains the count)\n",
    "H, xedges, yedges = np.histogram2d(x, y, bins=10)\n",
    "\n",
    "# Create 3D plot\n",
    "X, Y = np.meshgrid(xedges, yedges)\n",
    "\n",
    "fig = plt.figure()\n",
    "ax = fig.add_subplot(111, projection='3d')\n",
    "ax.set_xlabel('X')\n",
    "ax.set_ylabel('Y')\n",
    "ax.set_zlabel('Count')\n",
    "ax.set_title('Histogram')\n",
    "ax.plot_surface(X[:-1, :-1], Y[:-1, :-1],H, cmap='viridis')\n",
    "ax.view_init(elev=45, azim=320)\n",
    "\n",
    "plt.show()"
   ],
   "metadata": {
    "collapsed": false
   }
  }
 ],
 "metadata": {
  "kernelspec": {
   "display_name": "Python 3",
   "language": "python",
   "name": "python3"
  },
  "language_info": {
   "codemirror_mode": {
    "name": "ipython",
    "version": 2
   },
   "file_extension": ".py",
   "mimetype": "text/x-python",
   "name": "python",
   "nbconvert_exporter": "python",
   "pygments_lexer": "ipython2",
   "version": "2.7.6"
  }
 },
 "nbformat": 4,
 "nbformat_minor": 0
}
