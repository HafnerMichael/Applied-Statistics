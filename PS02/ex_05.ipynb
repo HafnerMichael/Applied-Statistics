{
 "cells": [
  {
   "cell_type": "code",
   "execution_count": 1,
   "metadata": {
    "collapsed": true
   },
   "outputs": [],
   "source": [
    "import matplotlib.pyplot as plt\n",
    "import matplotlib.transforms as transforms\n",
    "import numpy as np\n",
    "import pandas as pd\n",
    "from sklearn.cluster import KMeans\n",
    "from scipy.stats import norm, gaussian_kde\n",
    "import KDEpy"
   ]
  },
  {
   "cell_type": "code",
   "execution_count": 2,
   "outputs": [
    {
     "data": {
      "text/plain": "           X         Y\n0   5.336130  8.064160\n1   0.293243  3.939345\n2   0.033378  2.282810\n3   0.646273  1.968270\n4   5.119659  3.580912\n..       ...       ...\n95  4.874246  5.170647\n96  0.048707 -0.307987\n97  0.278910  3.251409\n98  5.023713  4.360683\n99  2.587660  6.071103\n\n[100 rows x 2 columns]",
      "text/html": "<div>\n<style scoped>\n    .dataframe tbody tr th:only-of-type {\n        vertical-align: middle;\n    }\n\n    .dataframe tbody tr th {\n        vertical-align: top;\n    }\n\n    .dataframe thead th {\n        text-align: right;\n    }\n</style>\n<table border=\"1\" class=\"dataframe\">\n  <thead>\n    <tr style=\"text-align: right;\">\n      <th></th>\n      <th>X</th>\n      <th>Y</th>\n    </tr>\n  </thead>\n  <tbody>\n    <tr>\n      <th>0</th>\n      <td>5.336130</td>\n      <td>8.064160</td>\n    </tr>\n    <tr>\n      <th>1</th>\n      <td>0.293243</td>\n      <td>3.939345</td>\n    </tr>\n    <tr>\n      <th>2</th>\n      <td>0.033378</td>\n      <td>2.282810</td>\n    </tr>\n    <tr>\n      <th>3</th>\n      <td>0.646273</td>\n      <td>1.968270</td>\n    </tr>\n    <tr>\n      <th>4</th>\n      <td>5.119659</td>\n      <td>3.580912</td>\n    </tr>\n    <tr>\n      <th>...</th>\n      <td>...</td>\n      <td>...</td>\n    </tr>\n    <tr>\n      <th>95</th>\n      <td>4.874246</td>\n      <td>5.170647</td>\n    </tr>\n    <tr>\n      <th>96</th>\n      <td>0.048707</td>\n      <td>-0.307987</td>\n    </tr>\n    <tr>\n      <th>97</th>\n      <td>0.278910</td>\n      <td>3.251409</td>\n    </tr>\n    <tr>\n      <th>98</th>\n      <td>5.023713</td>\n      <td>4.360683</td>\n    </tr>\n    <tr>\n      <th>99</th>\n      <td>2.587660</td>\n      <td>6.071103</td>\n    </tr>\n  </tbody>\n</table>\n<p>100 rows × 2 columns</p>\n</div>"
     },
     "execution_count": 2,
     "metadata": {},
     "output_type": "execute_result"
    }
   ],
   "source": [
    "data = pd.read_csv('data_KDE_2D.csv')\n",
    "data"
   ],
   "metadata": {
    "collapsed": false
   }
  }
 ],
 "metadata": {
  "kernelspec": {
   "display_name": "Python 3",
   "language": "python",
   "name": "python3"
  },
  "language_info": {
   "codemirror_mode": {
    "name": "ipython",
    "version": 2
   },
   "file_extension": ".py",
   "mimetype": "text/x-python",
   "name": "python",
   "nbconvert_exporter": "python",
   "pygments_lexer": "ipython2",
   "version": "2.7.6"
  }
 },
 "nbformat": 4,
 "nbformat_minor": 0
}
