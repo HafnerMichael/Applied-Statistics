{
 "cells": [
  {
   "cell_type": "code",
   "execution_count": null,
   "metadata": {
    "tags": []
   },
   "outputs": [],
   "source": [
    "import KDEpy\n",
    "import matplotlib.pyplot as plt\n",
    "import numpy as np\n",
    "import pandas as pd\n",
    "from scipy.stats import norm\n",
    "from sklearn.cluster import KMeans\n",
    "from yellowbrick.cluster import KElbowVisualizer"
   ]
  },
  {
   "cell_type": "code",
   "execution_count": null,
   "metadata": {
    "collapsed": false,
    "jupyter": {
     "outputs_hidden": false
    },
    "tags": []
   },
   "outputs": [],
   "source": [
    "data = pd.read_csv('data_KDE_1D.csv')\n",
    "data"
   ]
  },
  {
   "attachments": {},
   "cell_type": "markdown",
   "metadata": {},
   "source": [
    "## a) Explore the data using suitable methods and tools."
   ]
  },
  {
   "cell_type": "code",
   "execution_count": null,
   "metadata": {
    "collapsed": false,
    "jupyter": {
     "outputs_hidden": false
    },
    "tags": []
   },
   "outputs": [],
   "source": [
    "print(\"Data Describe:\\r\\n\", data.describe())\n",
    "print(\"\\r\\nData Head:\\r\\n\", data.head())\n",
    "\n",
    "xval = np.arange(len(data.index))\n",
    "plt.scatter(data.iloc[:, 0], np.zeros(len(data)))"
   ]
  },
  {
   "attachments": {},
   "cell_type": "markdown",
   "metadata": {},
   "source": [
    "## b) Group the data to generate a meaningful histogram of the data."
   ]
  },
  {
   "cell_type": "code",
   "execution_count": null,
   "metadata": {},
   "outputs": [],
   "source": [
    "# Instantiate the clustering model and visualizer\n",
    "km = KMeans(random_state=42)\n",
    "visualizer = KElbowVisualizer(km, k=(2,10))\n",
    "\n",
    "visualizer.fit(data)        # Fit the data to the visualizer\n",
    "visualizer.show()"
   ]
  },
  {
   "cell_type": "code",
   "execution_count": null,
   "outputs": [],
   "source": [
    "kmean = KMeans(n_clusters=3).fit(data)\n",
    "labels = kmean.predict(data)\n",
    "plt.scatter(data.iloc[:, 0], np.zeros(len(data)), c=labels)"
   ],
   "metadata": {
    "collapsed": false
   }
  },
  {
   "cell_type": "code",
   "execution_count": null,
   "metadata": {},
   "outputs": [],
   "source": [
    "data_with_labels = data\n",
    "data_with_labels[\"label\"] = labels\n",
    "data_with_labels.groupby('label')['data'].hist(bins=15)\n",
    "plt.show()"
   ]
  },
  {
   "cell_type": "markdown",
   "source": [
    "## c) Try to fit a normal distribution into the data. Plot the fitted normal distribution on top of the histogram. Hint: use scipy.stats.norm.fit to estimate the parameters of the normal distribution."
   ],
   "metadata": {
    "collapsed": false
   }
  },
  {
   "cell_type": "code",
   "execution_count": null,
   "outputs": [],
   "source": [
    "group1 = data.loc[data['label'] == 0, 'data']\n",
    "group2 = data.loc[data['label'] == 1, 'data']\n",
    "group3 = data.loc[data['label'] == 2, 'data']\n",
    "\n",
    "mu1, std1 = norm.fit(group1)\n",
    "mu2, std2 = norm.fit(group2)\n",
    "mu3, std3 = norm.fit(group3)\n",
    "\n",
    "plt.hist(group1, label='group1')\n",
    "plt.hist(group2, label='group2')\n",
    "plt.hist(group3, label='group3')\n",
    "\n",
    "xmin, xmax = plt.xlim()\n",
    "x = np.linspace(xmin, xmax, 100)\n",
    "\n",
    "p1 = norm.pdf(x, mu1, std1)\n",
    "plt.plot(x, p1 * 40, 'b', linewidth=3)\n",
    "p2 = norm.pdf(x, mu2, std2)\n",
    "plt.plot(x, p2 * 40, 'r', linewidth=3)\n",
    "p3 = norm.pdf(x, mu3, std3)\n",
    "plt.plot(x, p3 * 40, 'g', linewidth=3)\n",
    "\n",
    "plt.legend(title='Legend', loc='upper left')\n",
    "plt.show()"
   ],
   "metadata": {
    "collapsed": false
   }
  },
  {
   "cell_type": "markdown",
   "source": [
    "## d) Multivariate kernel density estimation: Put a kernel (Gaussian, box, triangular) on top of every data point. Discuss the results. Hint: you can use python libraries such as KDEpy for your solution."
   ],
   "metadata": {
    "collapsed": false
   }
  },
  {
   "cell_type": "markdown",
   "source": [
    "https://kdepy.readthedocs.io/en/latest/introduction.html"
   ],
   "metadata": {
    "collapsed": false
   }
  },
  {
   "cell_type": "code",
   "execution_count": null,
   "outputs": [],
   "source": [
    "data = pd.read_csv('data_KDE_1D.csv')\n",
    "data_array = data['data'].to_numpy()"
   ],
   "metadata": {
    "collapsed": false
   }
  },
  {
   "cell_type": "code",
   "execution_count": null,
   "outputs": [],
   "source": [
    "plt.hist(data, density=True, label='Histogram', edgecolor='#1f77b4', color='w', bins=30)\n",
    "\n",
    "mu, std = norm.fit(data)\n",
    "xmin, xmax = plt.xlim()\n",
    "x = np.linspace(xmin, xmax, 100)\n",
    "p1 = norm.pdf(x, mu, std)\n",
    "\n",
    "plt.scatter(data, np.zeros_like(data), marker='|',\n",
    "            c='r', label='Data', zorder=9)\n",
    "plt.plot(x, p1, label='True pdf', c='r', ls='--')\n",
    "plt.legend(loc='best')\n",
    "plt.show()"
   ],
   "metadata": {
    "collapsed": false
   }
  },
  {
   "cell_type": "code",
   "execution_count": null,
   "outputs": [],
   "source": [
    "# Plot the points\n",
    "plt.figure(figsize=(14, 3));\n",
    "plt.subplot(1, 3, 1)\n",
    "plt.title('Data points')\n",
    "plt.scatter(data_array, np.zeros_like(data_array), marker='|', c='r', label='Data')\n",
    "\n",
    "# Plot a kernel on each data point\n",
    "plt.subplot(1, 3, 2);\n",
    "plt.title('Data points with kernel functions')\n",
    "\n",
    "for i in range(5, 10):\n",
    "    d = data_array[i]\n",
    "    plt.scatter(d, 0, marker='|', c='r', label='Data')\n",
    "    x, y = KDEpy.TreeKDE(kernel='gaussian').fit([d])()\n",
    "    plt.plot(x, y, color='#1f77b4')\n",
    "\n",
    "# Plot a normalized kernel on each data point, and the sum\n",
    "plt.subplot(1, 3, 3);\n",
    "plt.title('Data points with kernel functions summed')\n",
    "plt.scatter(data_array, np.zeros_like(data_array), marker='|', c='r', label='Data')\n",
    "for d in data_array:\n",
    "    x, y = KDEpy.TreeKDE(kernel='gaussian').fit([d])()\n",
    "    plt.plot(x, y / len(data), color='#1f77b4')\n",
    "x, y = KDEpy.TreeKDE(kernel='gaussian').fit(data_array)()\n",
    "plt.plot(x, y, color='#ff7f0e')\n",
    "plt.show()"
   ],
   "metadata": {
    "collapsed": false
   }
  },
  {
   "cell_type": "markdown",
   "source": [
    "Zoom in last one to see the single hats:"
   ],
   "metadata": {
    "collapsed": false
   }
  },
  {
   "cell_type": "code",
   "execution_count": null,
   "outputs": [],
   "source": [
    "# Plot a normalized kernel on each data point, and the sum\n",
    "plt.scatter(data_array, np.zeros_like(data_array), marker='|', c='r', label='Data')\n",
    "for d in data_array:\n",
    "    x, y = KDEpy.TreeKDE(kernel='box').fit([d])()\n",
    "    plt.plot(x, y / len(data), color='#1f77b4')\n",
    "x, y = KDEpy.TreeKDE(kernel='box').fit(data_array)()\n",
    "plt.plot(x, y, color='#ff7f0e')\n",
    "plt.xlim([5, 6])\n",
    "plt.show()"
   ],
   "metadata": {
    "collapsed": false
   }
  },
  {
   "cell_type": "markdown",
   "source": [
    "## e) Vary the parameters of the kernels (bandwidth, weights, ...) used in (d) and combine them to get a KDE."
   ],
   "metadata": {
    "collapsed": false
   }
  },
  {
   "cell_type": "code",
   "execution_count": null,
   "outputs": [],
   "source": [
    "plt.hist(data_array, density=True, label='Histogram', edgecolor='#1f77b4', color='w', bins=30)\n",
    "\n",
    "mu, std = norm.fit(data_array)\n",
    "xmin, xmax = plt.xlim()\n",
    "\n",
    "# Use a box function with the FFTKDE to obtain a density estimate\n",
    "x, y = KDEpy.FFTKDE(kernel='box', bw=0.7).fit(data_array).evaluate()\n",
    "\n",
    "p1 = norm.pdf(x, mu, std)\n",
    "plt.plot(x, y, zorder=10, color='#ff7f0e', label='KDE with box kernel')\n",
    "plt.scatter(data_array, np.zeros_like(data_array), marker='|', c='r',\n",
    "            label='Data', zorder=9)\n",
    "plt.plot(x, p1, label='True pdf', c='r', ls='--')\n",
    "plt.legend(loc='best')\n",
    "plt.title('Box Kernel, BW = 0.7')\n",
    "plt.show()"
   ],
   "metadata": {
    "collapsed": false
   }
  },
  {
   "cell_type": "code",
   "execution_count": null,
   "outputs": [],
   "source": [
    "plt.plot(x, y, color='#ff7f0e')\n",
    "plt.hist(data_array, density=True, label='Histogram', edgecolor='#1f77b4', color='w', bins=30)\n",
    "\n",
    "mu, std = norm.fit(data_array)\n",
    "xmin, xmax = plt.xlim()\n",
    "\n",
    "# Use a box function with the FFTKDE to obtain a density estimate\n",
    "x, y = KDEpy.FFTKDE(kernel='exponential', bw=0.7).fit(data_array).evaluate()\n",
    "\n",
    "p1 = norm.pdf(x, mu, std)\n",
    "plt.plot(x, y, zorder=10, color='#ff7f0e', label='KDE with exponential kernel')\n",
    "plt.scatter(data_array, np.zeros_like(data_array), marker='|', c='r',\n",
    "            label='Data', zorder=9)\n",
    "plt.plot(x, p1, label='True pdf', c='r', ls='--')\n",
    "plt.legend(loc='best')\n",
    "plt.title('Exponential Kernel, BW = 0.7')\n",
    "plt.show()"
   ],
   "metadata": {
    "collapsed": false
   }
  },
  {
   "cell_type": "code",
   "execution_count": null,
   "outputs": [],
   "source": [
    "plt.hist(data_array, density=True, label='Histogram', edgecolor='#1f77b4', color='w', bins=30)\n",
    "\n",
    "mu, std = norm.fit(data_array)\n",
    "xmin, xmax = plt.xlim()\n",
    "\n",
    "# Use a box function with the FFTKDE to obtain a density estimate\n",
    "x, y = KDEpy.FFTKDE(kernel='gaussian', bw=0.7).fit(data_array).evaluate()\n",
    "\n",
    "p1 = norm.pdf(x, mu, std)\n",
    "plt.plot(x, y, zorder=10, color='#ff7f0e', label='KDE with gaussian kernel')\n",
    "plt.scatter(data_array, np.zeros_like(data_array), marker='|', c='r',\n",
    "            label='Data', zorder=9)\n",
    "plt.plot(x, p1, label='True pdf', c='r', ls='--')\n",
    "plt.legend(loc='best')\n",
    "plt.title('Gaussian Kernel, BW = 0.7')\n",
    "plt.show()"
   ],
   "metadata": {
    "collapsed": false
   }
  },
  {
   "cell_type": "markdown",
   "source": [
    "# Gaussian Kernel - Play with bandwidth"
   ],
   "metadata": {
    "collapsed": false
   }
  },
  {
   "cell_type": "code",
   "execution_count": null,
   "outputs": [],
   "source": [
    "plt.figure(figsize=(16, 9))\n",
    "plt.hist(data_array, density=True, label='Histogram', edgecolor='#1f77b4', color='w', bins=30, alpha=0.1)\n",
    "\n",
    "mu, std = norm.fit(data_array)\n",
    "xmin, xmax = plt.xlim()\n",
    "p1 = norm.pdf(x, mu, std)\n",
    "\n",
    "for bw in [0.25, 0.5, 0.75]:\n",
    "    x, y = KDEpy.FFTKDE(kernel='gaussian', bw=bw).fit(data_array).evaluate()\n",
    "    plt.plot(x, y, label='bw=\"{}\"'.format(bw))\n",
    "\n",
    "plt.plot(x, p1, label='True pdf', c='r', ls='--')\n",
    "plt.legend(loc='best');"
   ],
   "metadata": {
    "collapsed": false
   }
  },
  {
   "cell_type": "code",
   "execution_count": null,
   "outputs": [],
   "source": [
    "plt.figure(figsize=(16, 9))\n",
    "plt.hist(data_array, density=True, label='Histogram', edgecolor='#1f77b4', color='w', bins=30, alpha=0.1)\n",
    "\n",
    "mu, std = norm.fit(data_array)\n",
    "xmin, xmax = plt.xlim()\n",
    "p1 = norm.pdf(x, mu, std)\n",
    "\n",
    "for bw in [1, 3, 5]:\n",
    "    x, y = KDEpy.FFTKDE(kernel='gaussian', bw=bw).fit(data_array).evaluate()\n",
    "    plt.plot(x, y, label='bw=\"{}\"'.format(bw))\n",
    "\n",
    "plt.plot(x, p1, label='True pdf', c='r', ls='--')\n",
    "plt.legend(loc='best');"
   ],
   "metadata": {
    "collapsed": false
   }
  },
  {
   "cell_type": "markdown",
   "source": [
    "# Gaussian Kernel - Play with weights"
   ],
   "metadata": {
    "collapsed": false
   }
  },
  {
   "cell_type": "code",
   "execution_count": null,
   "outputs": [],
   "source": [
    "plt.figure(figsize=(16, 9));\n",
    "plt.subplot(1, 2, 1)\n",
    "plt.scatter(data_array, np.zeros_like(data_array), marker='o', c='None',\n",
    "            edgecolor='r', alpha=0.75)\n",
    "\n",
    "# Unweighted KDE\n",
    "x, y = KDEpy.FFTKDE().fit(data_array)()\n",
    "plt.plot(x, y)\n",
    "plt.ylim([0, 0.2])\n",
    "\n",
    "plt.subplot(1, 2, 2);\n",
    "np.random.seed(123)\n",
    "weights = data_array * 5\n",
    "plt.scatter(data_array, np.zeros_like(data_array), marker='o', c='None',\n",
    "            edgecolor='r', alpha=0.75, s=weights)\n",
    "\n",
    "# Weighted KDE\n",
    "x, y = KDEpy.FFTKDE().fit(data_array, weights=weights)()\n",
    "plt.plot(x, y)\n",
    "plt.ylim([0, 0.2])\n",
    "plt.show()\n"
   ],
   "metadata": {
    "collapsed": false
   }
  }
 ],
 "metadata": {
  "kernelspec": {
   "display_name": "Python 3 (ipykernel)",
   "language": "python",
   "name": "python3"
  },
  "language_info": {
   "codemirror_mode": {
    "name": "ipython",
    "version": 3
   },
   "file_extension": ".py",
   "mimetype": "text/x-python",
   "name": "python",
   "nbconvert_exporter": "python",
   "pygments_lexer": "ipython3",
   "version": "3.8.10"
  }
 },
 "nbformat": 4,
 "nbformat_minor": 4
}
