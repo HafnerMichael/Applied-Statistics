{
 "cells": [
  {
   "cell_type": "code",
   "execution_count": null,
   "metadata": {
    "tags": []
   },
   "outputs": [],
   "source": [
    "import matplotlib.pyplot as plt\n",
    "import matplotlib.transforms as transforms\n",
    "import numpy as np\n",
    "import pandas as pd\n",
    "from sklearn.cluster import KMeans\n",
    "from scipy.stats import norm"
   ]
  },
  {
   "cell_type": "code",
   "execution_count": null,
   "metadata": {
    "collapsed": false,
    "jupyter": {
     "outputs_hidden": false
    },
    "tags": []
   },
   "outputs": [],
   "source": [
    "data = pd.read_csv('data_KDE_1D.csv')"
   ]
  },
  {
   "attachments": {},
   "cell_type": "markdown",
   "metadata": {},
   "source": [
    "## a) Explore the data using suitable methods and tools."
   ]
  },
  {
   "cell_type": "code",
   "execution_count": null,
   "metadata": {
    "collapsed": false,
    "jupyter": {
     "outputs_hidden": false
    },
    "tags": []
   },
   "outputs": [],
   "source": [
    "print(\"Data Describe:\\r\\n\", data.describe())\n",
    "print(\"\\r\\nData Head:\\r\\n\", data.head())\n",
    "\n",
    "xval = np.arange(len(data.index))\n",
    "plt.scatter(xval, data.iloc[:,0])"
   ]
  },
  {
   "attachments": {},
   "cell_type": "markdown",
   "metadata": {},
   "source": [
    "## b) Group the data to generate a meaningful histogram of the data."
   ]
  },
  {
   "cell_type": "code",
   "execution_count": null,
   "metadata": {},
   "outputs": [],
   "source": [
    "kmean = KMeans(3).fit(data)\n",
    "labels = kmean.predict(data)\n",
    "plt.scatter(xval, data.iloc[:,0], c=labels)"
   ]
  },
  {
   "cell_type": "code",
   "execution_count": null,
   "metadata": {},
   "outputs": [],
   "source": [
    "data[\"label\"] = labels\n",
    "data.groupby('label')['data'].hist(bins=15)\n",
    "plt.show()"
   ]
  },
  {
   "attachments": {},
   "cell_type": "markdown",
   "metadata": {},
   "source": [
    "## Try to fit a normal distribution into the data. Plot the fitted normal distribution on top of the histogram.\n",
    "\n",
    "Hint: use scipy.stats.norm.fit to estimate the parameters of the normal\n",
    "distribution."
   ]
  },
  {
   "cell_type": "code",
   "execution_count": null,
   "metadata": {},
   "outputs": [],
   "source": [
    "#l, g = data.groupby('label')\n",
    "min = 0\n",
    "x=np.linspace(0,data.max(),1000)\n",
    "for label, group in data.groupby('label'):\n",
    "    location, scale = norm.fit(group)\n",
    "    print( location , \" | \" , scale)\n",
    "    pdf=norm.pdf(x,location+min,scale)\n",
    "    min += location\n",
    "    plt.plot(x,pdf*50)\n",
    "    \n",
    "\n",
    "data.groupby('label')['data'].hist(bins=15)\n",
    "plt.show()\n",
    "# xmin, xmax = plt.xlim()\n",
    "# x = np.linspace(xmin, xmax, len(data))\n",
    "# p = norm.pdf(x, mu, std)\n",
    "# q = norm.pdf(x, mu1, std1)\n",
    "# plt.plot(x, p, 'k', linewidth=2)\n",
    "# plt.plot(x, q, 'r', linewidth=1)\n",
    "# title = \"Fit results: mu = %.5f,  std = %.5f\" % (mu, std)\n",
    "# plt.title(title)\n",
    "\n",
    "plt.show()\n"
   ]
  }
 ],
 "metadata": {
  "kernelspec": {
   "display_name": "Python 3 (ipykernel)",
   "language": "python",
   "name": "python3"
  },
  "language_info": {
   "codemirror_mode": {
    "name": "ipython",
    "version": 3
   },
   "file_extension": ".py",
   "mimetype": "text/x-python",
   "name": "python",
   "nbconvert_exporter": "python",
   "pygments_lexer": "ipython3",
   "version": "3.8.10"
  }
 },
 "nbformat": 4,
 "nbformat_minor": 4
}
