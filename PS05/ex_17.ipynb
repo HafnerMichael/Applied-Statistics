{
 "cells": [
  {
   "cell_type": "markdown",
   "source": [
    "# Exercise Sheet 5"
   ],
   "metadata": {
    "collapsed": false
   }
  },
  {
   "cell_type": "markdown",
   "source": [
    "## Exercise 17\n",
    "\n",
    "Given is a fish pond with m fishes and m unknown. The population size is to be estimated. Therefore, at first c fishes are angled from the pond, marked with a spot\n",
    "of color and thrown back into the pond, a week later r fishes are angled and the number t of the r fishes determined which have a spot of color."
   ],
   "metadata": {
    "collapsed": false
   }
  },
  {
   "cell_type": "code",
   "execution_count": null,
   "outputs": [],
   "source": [
    "import numpy as np\n",
    "import matplotlib.pyplot as plt"
   ],
   "metadata": {
    "collapsed": false
   }
  },
  {
   "cell_type": "code",
   "execution_count": null,
   "outputs": [],
   "source": [
    "amount_fishes = 500\n",
    "values = [10, 20, 40, 80, 150]"
   ],
   "metadata": {
    "collapsed": false
   }
  },
  {
   "cell_type": "code",
   "execution_count": null,
   "outputs": [],
   "source": [
    "class Fish:\n",
    "    def __init__(self):\n",
    "        self.marked = False"
   ],
   "metadata": {
    "collapsed": false
   }
  },
  {
   "cell_type": "code",
   "execution_count": null,
   "outputs": [],
   "source": [
    "def simu():\n",
    "    m = {}\n",
    "    for c in values:\n",
    "        for r in values:\n",
    "            pond = [Fish() for _ in range(amount_fishes)]\n",
    "            t = 0\n",
    "\n",
    "            #mark the fish\n",
    "            indices = np.random.choice(range(amount_fishes), size=c, replace=False)\n",
    "            for i in indices:\n",
    "                pond[i].marked = True\n",
    "\n",
    "            # fish on another day and count the already fished ones\n",
    "            indices = np.random.choice(range(amount_fishes), size=r, replace=False)\n",
    "            for i in indices:\n",
    "                if pond[i].marked is True:\n",
    "                    pond[i].marked = False\n",
    "                    t += 1\n",
    "            m[str(c) + '/' + str(r)] = 0 if t == 0 else (c * r) / t\n",
    "\n",
    "    return m\n"
   ],
   "metadata": {
    "collapsed": false
   }
  },
  {
   "cell_type": "code",
   "execution_count": null,
   "outputs": [],
   "source": [
    "def control(times):\n",
    "    sample = [simu() for _ in range(times)]\n",
    "    new = {}\n",
    "\n",
    "    for key in sample[0].keys():\n",
    "        # calculate the mean over the repetitions\n",
    "        new[key] = np.mean([d[key] for d in sample])\n",
    "    return new"
   ],
   "metadata": {
    "collapsed": false
   }
  },
  {
   "cell_type": "code",
   "execution_count": null,
   "outputs": [],
   "source": [
    "estimation = control(100)\n",
    "\n",
    "#plot estimation as bar plot\n",
    "plt.figure(figsize=(20, 10))\n",
    "plt.bar(range(len(estimation)), list(estimation.values()), align='center')\n",
    "plt.axhline(y=amount_fishes, color='r', linestyle='--')\n",
    "plt.xticks(range(len(estimation)), list(estimation.keys()))\n",
    "plt.xlabel('Combination of c/r')\n",
    "plt.ylabel('Estimated population m_hat')\n",
    "plt.show()\n"
   ],
   "metadata": {
    "collapsed": false
   }
  }
 ],
 "metadata": {
  "kernelspec": {
   "display_name": "Python 3",
   "language": "python",
   "name": "python3"
  },
  "language_info": {
   "codemirror_mode": {
    "name": "ipython",
    "version": 2
   },
   "file_extension": ".py",
   "mimetype": "text/x-python",
   "name": "python",
   "nbconvert_exporter": "python",
   "pygments_lexer": "ipython2",
   "version": "2.7.6"
  }
 },
 "nbformat": 4,
 "nbformat_minor": 0
}
