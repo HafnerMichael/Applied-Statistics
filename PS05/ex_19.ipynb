{
 "cells": [
  {
   "attachments": {},
   "cell_type": "markdown",
   "metadata": {},
   "source": [
    "# Exercise Sheet 5"
   ]
  },
  {
   "attachments": {},
   "cell_type": "markdown",
   "metadata": {},
   "source": [
    "## Exercise 19\n",
    "\n",
    "### 1.)\n",
    "Plot the distribution function and the density of a (student-) t-distribution with varying degrees of freedom n ∈ {1, 2, 3, 5, 10} on top of the density of a standard normal distribution and discuss the similarities/differences you can find."
   ]
  },
  {
   "cell_type": "code",
   "execution_count": null,
   "metadata": {},
   "outputs": [],
   "source": [
    "import numpy as np\n",
    "import matplotlib.pyplot as plt\n",
    "from scipy.stats import norm, t\n",
    "\n",
    "plt.figure(figsize=(30,10))\n",
    "\n",
    "# Define the degrees of freedom\n",
    "df = [1, 2, 3, 5, 10]\n",
    "\n",
    "# Define the range of x values for the plot\n",
    "x = np.linspace(-4, 4, 100)\n",
    "norm_dist = norm()\n",
    "plt.plot(x, norm_dist.pdf(x), linewidth=3, label='standard normal distribution')\n",
    "plt.plot(x, norm_dist.cdf(x), '--', linewidth=3, label='standard normal distribution CDF')\n",
    "\n",
    "# Plot the density and distribution function for each df\n",
    "for n in df:\n",
    "    # Compute the t-distribution and the normal distribution\n",
    "    t_dist = t(n)\n",
    "    \n",
    "    # Plot the density functions\n",
    "    plt.plot(x, t_dist.pdf(x), label='t-distribution (n={})'.format(n))\n",
    "\n",
    "    # Plot the distribution functions\n",
    "    plt.plot(x, t_dist.cdf(x), '--', label='t-distribution (n={}) CDF'.format(n))\n",
    "    \n",
    "\n",
    "# Add axis labels and title to the plot\n",
    "plt.xlabel('x')\n",
    "plt.ylabel('Density and Distribution function')\n",
    "plt.title('Comparison of t-distribution and standard normal distribution')\n",
    "\n",
    "# Add legend to the plot\n",
    "plt.legend(loc=2, prop={'size':14})"
   ]
  },
  {
   "attachments": {},
   "cell_type": "markdown",
   "metadata": {},
   "source": [
    "The above plot shows that the t-distribution approaches the standard normal distribution. \n",
    "--> by increasing the degrees of freedom the t-distribution approaches more to the standard normal distribution"
   ]
  },
  {
   "attachments": {},
   "cell_type": "markdown",
   "metadata": {},
   "source": [
    " ### 2.)\n",
    " In a simulation, generate 3 random numbers from the standard normal distribution N (0, 1), estimate mean and variance by $\\^μ$ = numpy.mean(data) and $\\^σ^2$ = numpy.var(data, ddof=1). Finally compute\n",
    "\n",
    "$ S = \\frac{\\^µ}{\\sqrt{\\^σ^2} / \\sqrt{n}} $\n",
    "\n",
    "Repeat this experiment m = 1000 times and add the empirical distribution function of S1, ... , Sm to the plot of the distribution function. To which distribution does the resulting data compare best?"
   ]
  },
  {
   "cell_type": "code",
   "execution_count": null,
   "metadata": {},
   "outputs": [],
   "source": [
    "def simu(n):\n",
    "    data = np.random.normal(0, 1, n)\n",
    "    S = np.mean(data) / np.sqrt(np.var(data,ddof=1)/n)\n",
    "    return S\n",
    "\n",
    "def control(m,n):\n",
    "    # Initialize an array to store the results\n",
    "    S = np.zeros(m)\n",
    "    for i in range (0, m):\n",
    "        S[i]=simu(n)\n",
    "    return S "
   ]
  },
  {
   "cell_type": "code",
   "execution_count": null,
   "metadata": {},
   "outputs": [],
   "source": [
    "m=1000\n",
    "n=3\n",
    "S=control(m,n)\n",
    "\n",
    "plt.figure(figsize=(30,10))\n",
    "\n",
    "# Plot the empirical distribution function\n",
    "plt.hist(S, bins=200, density=True, cumulative=True, alpha=0.5)\n",
    "\n",
    "# Define the degrees of freedom\n",
    "df = [1, 2, 3, 5, 10]\n",
    "\n",
    "# Define the range of x values for the plot\n",
    "x = np.linspace(-4, 4, 100)\n",
    "norm_dist = norm()\n",
    "plt.plot(x, norm_dist.cdf(x), linewidth=3, label='standard normal distribution CDF')\n",
    "\n",
    "# Plot the density and distribution function for each df\n",
    "for n in df:\n",
    "    # Compute the t-distribution and the normal distribution\n",
    "    t_dist = t(n)\n",
    "\n",
    "    # Plot the distribution functions\n",
    "    plt.plot(x, t_dist.cdf(x), label='t-distribution (n={}) CDF'.format(n))\n",
    "    \n",
    "\n",
    "# Add axis labels and title to the plot\n",
    "plt.xlabel('x')\n",
    "plt.ylabel('Density and Distribution function')\n",
    "plt.title('Comparison of t-distribution and standard normal distribution')\n",
    "plt.xlim(-5,5)\n",
    "# Add legend to the plot\n",
    "plt.legend(loc=2, prop={'size':14})"
   ]
  },
  {
   "attachments": {},
   "cell_type": "markdown",
   "metadata": {},
   "source": [
    "which distribution does the resulting data compare best?\n",
    " \n",
    "Maybe t-distribution with degree of freedom = 2"
   ]
  }
 ],
 "metadata": {
  "kernelspec": {
   "display_name": "Python 3",
   "language": "python",
   "name": "python3"
  },
  "language_info": {
   "codemirror_mode": {
    "name": "ipython",
    "version": 3
   },
   "file_extension": ".py",
   "mimetype": "text/x-python",
   "name": "python",
   "nbconvert_exporter": "python",
   "pygments_lexer": "ipython3",
   "version": "3.8.10"
  },
  "orig_nbformat": 4
 },
 "nbformat": 4,
 "nbformat_minor": 2
}
