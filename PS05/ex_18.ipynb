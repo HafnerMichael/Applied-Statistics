{
 "cells": [
  {
   "cell_type": "markdown",
   "metadata": {},
   "source": [
    "# Exercise Sheet 5"
   ]
  },
  {
   "attachments": {},
   "cell_type": "markdown",
   "metadata": {},
   "source": [
    "## Exercise 18\n",
    "Let X ∼ P ark,xmin be Pareto-distributed with parameters k > 0 and xmin > 0. This\n",
    "distribution is often used in economics. Its expectation is given by:\n",
    "\n",
    "$ E[X]=x_{min}\\cdot\\frac{k}{k-1}$\n",
    "\n",
    "Assume, we are given data 30, 100, 120, 250, 57 sampled from a Pareto and let xmin = 30,\n",
    "the minimum value of the data. Find an estimator for the parameter k using the\n",
    "Method-of-Moments and calculate its value. Plot data and distribution density in a\n",
    "chart.\n"
   ]
  },
  {
   "cell_type": "code",
   "execution_count": null,
   "metadata": {},
   "outputs": [],
   "source": [
    "# Calculation of parameters --> see notes\n",
    "\n",
    "import numpy as np\n",
    "import matplotlib.pyplot as plt\n",
    "from scipy.stats import pareto\n",
    "\n",
    "# Define the data\n",
    "data = np.array([30, 100, 120, 250, 57])\n",
    "xmin = 30\n",
    "\n",
    "# Estimate k using the method of moments\n",
    "x_bar = np.mean(data)\n",
    "k = x_bar / (x_bar - xmin)\n",
    "\n",
    "# Define the Pareto distribution\n",
    "dist = pareto(k, scale=xmin)\n",
    "\n",
    "# Generate x-values for the PDF plot\n",
    "x = np.linspace(xmin, np.max(data), 100)\n",
    "\n",
    "# Plot the data and the PDF\n",
    "plt.hist(data, bins=30, density=True, alpha=0.5, label='Data')\n",
    "plt.plot(x, dist.pdf(x), label='Pareto PDF')\n",
    "plt.xlabel('x')\n",
    "plt.ylabel('Probability density')\n",
    "plt.title('Pareto distribution with k={:.3f} and xmin={}'.format(k, xmin))\n",
    "plt.legend()\n",
    "plt.show()"
   ]
  }
 ],
 "metadata": {
  "kernelspec": {
   "display_name": "Python 3",
   "language": "python",
   "name": "python3"
  },
  "language_info": {
   "codemirror_mode": {
    "name": "ipython",
    "version": 3
   },
   "file_extension": ".py",
   "mimetype": "text/x-python",
   "name": "python",
   "nbconvert_exporter": "python",
   "pygments_lexer": "ipython3",
   "version": "3.8.10"
  },
  "orig_nbformat": 4
 },
 "nbformat": 4,
 "nbformat_minor": 2
}
