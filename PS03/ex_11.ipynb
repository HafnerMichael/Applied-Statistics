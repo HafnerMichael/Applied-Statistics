{
 "cells": [
  {
   "attachments": {},
   "cell_type": "markdown",
   "metadata": {},
   "source": [
    "# Exercise Sheet 3"
   ]
  },
  {
   "attachments": {},
   "cell_type": "markdown",
   "metadata": {},
   "source": [
    "## Exercise 11 \n",
    "\n",
    "A biometric system for access control has these benchmark data:\n",
    "+ The system recognises an authorised person in 95 of 100 cases correctly\n",
    "+ In 1 of 100 cases yet an unauthorised person is granted access.\n",
    "\n",
    "The system is used to grant access to a server room for only 3 persons in a company\n",
    "with 500 employees. Find the probability that an access granted person is indeed an\n",
    "authorised person"
   ]
  },
  {
   "attachments": {},
   "cell_type": "markdown",
   "metadata": {},
   "source": [
    "### a) by an analytic calculation and"
   ]
  },
  {
   "attachments": {},
   "cell_type": "markdown",
   "metadata": {},
   "source": [
    "### b) by estimating it by a relative frequency in a simulation"
   ]
  }
 ],
 "metadata": {
  "language_info": {
   "name": "python"
  },
  "orig_nbformat": 4
 },
 "nbformat": 4,
 "nbformat_minor": 2
}
