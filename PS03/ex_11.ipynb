{
 "cells": [
  {
   "attachments": {},
   "cell_type": "markdown",
   "metadata": {},
   "source": [
    "# Exercise Sheet 3"
   ]
  },
  {
   "attachments": {},
   "cell_type": "markdown",
   "metadata": {},
   "source": [
    "## Exercise 11 \n",
    "\n",
    "A biometric system for access control has these benchmark data:\n",
    "+ The system recognises an authorised person in 95 of 100 cases correctly\n",
    "+ In 1 of 100 cases yet an unauthorised person is granted access.\n",
    "\n",
    "The system is used to grant access to a server room for only 3 persons in a company\n",
    "with 500 employees. Find the probability that an access granted person is indeed an\n",
    "authorised person"
   ]
  },
  {
   "cell_type": "code",
   "execution_count": null,
   "outputs": [],
   "source": [
    "import numpy as np\n",
    "import scipy.stats as stats"
   ],
   "metadata": {
    "collapsed": false
   }
  },
  {
   "cell_type": "markdown",
   "source": [
    "### a) by an analytic calculation and"
   ],
   "metadata": {
    "collapsed": false
   }
  },
  {
   "cell_type": "code",
   "execution_count": null,
   "outputs": [],
   "source": [
    "n_employees = 500\n",
    "n_access = 3\n",
    "p_access_correct = 95/100\n",
    "p_access_incorrect = 1/100"
   ],
   "metadata": {
    "collapsed": false
   }
  },
  {
   "cell_type": "code",
   "execution_count": null,
   "outputs": [],
   "source": [
    "# a) code HERE\n",
    "# Bayes: path of interest/all possible paths\n",
    "p_access_authorized = (n_access / n_employees * p_access_correct) / (\n",
    "        (n_access / n_employees * p_access_correct) + ((n_employees - n_access) / n_employees * p_access_incorrect))\n",
    "\n",
    "print('Probability that an access granted person is indeed an authorised person: {:.2f}%'.format(\n",
    "    p_access_authorized * 100))"
   ],
   "metadata": {
    "collapsed": false
   }
  },
  {
   "attachments": {},
   "cell_type": "markdown",
   "metadata": {},
   "source": [
    "### b) by estimating it by a relative frequency in a simulation"
   ]
  },
  {
   "cell_type": "code",
   "execution_count": null,
   "outputs": [],
   "source": [
    "def demand_authorized():\n",
    "    dist = stats.multinomial(n=1, p=[1 - p_access_correct, p_access_incorrect])\n",
    "    return int(np.where(dist.rvs(1) == 1)[1])  #0 for no access 1 for access"
   ],
   "metadata": {
    "collapsed": false
   }
  },
  {
   "cell_type": "code",
   "execution_count": null,
   "outputs": [],
   "source": [
    "def demand_unauthorized():\n",
    "    dist = stats.multinomial(n=1, p=[1 - p_access_incorrect, p_access_incorrect])\n",
    "    return int(np.where(dist.rvs(1) == 1)[1])  #0 for no access 1 for access"
   ],
   "metadata": {
    "collapsed": false
   }
  },
  {
   "cell_type": "code",
   "execution_count": null,
   "outputs": [],
   "source": [
    "def simu():\n",
    "    \"\"\"\"\n",
    "    0: For authorized and access\n",
    "    1: For authorized no access\n",
    "    2: For unauthorized no access\n",
    "    3: For unauthorized and access\n",
    "    \"\"\"\n",
    "    result = np.zeros(n_employees)\n",
    "\n",
    "    for i in range(n_employees):\n",
    "        #authorized employees\n",
    "        if i < n_access:\n",
    "            access = bool(demand_authorized())\n",
    "            #if an authorized person got access write one, otherwise stays 0 like initialized\n",
    "            if not access:\n",
    "                result[i] = 1\n",
    "            continue\n",
    "        access = bool(demand_unauthorized())\n",
    "        if not access:\n",
    "            result[i] = 2\n",
    "        else:\n",
    "            result[i] = 3\n",
    "\n",
    "    return result"
   ],
   "metadata": {
    "collapsed": false
   }
  },
  {
   "cell_type": "code",
   "execution_count": null,
   "outputs": [],
   "source": [
    "def control(times):\n",
    "    sample = [simu() for _ in range(times)]\n",
    "    values, counts = np.unique(sample, return_counts=True)\n",
    "    return counts"
   ],
   "metadata": {
    "collapsed": false
   }
  },
  {
   "cell_type": "code",
   "execution_count": null,
   "outputs": [],
   "source": [
    "workingdays_per_year = 250\n",
    "trails = workingdays_per_year\n",
    "counts = control(trails)\n",
    "prob = counts[0]/(counts[0]+counts[3])\n",
    "print('Probability that an access granted person is indeed an authorised person: {:.2f}%'.format(\n",
    "    prob * 100 ))"
   ],
   "metadata": {
    "collapsed": false
   }
  }
 ],
 "metadata": {
  "language_info": {
   "name": "python"
  },
  "orig_nbformat": 4
 },
 "nbformat": 4,
 "nbformat_minor": 2
}
