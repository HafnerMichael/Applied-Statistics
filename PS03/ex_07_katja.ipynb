{
 "cells": [
  {
   "attachments": {},
   "cell_type": "markdown",
   "metadata": {},
   "source": [
    "# Exercise Sheet 3"
   ]
  },
  {
   "attachments": {},
   "cell_type": "markdown",
   "metadata": {},
   "source": [
    "## Exercise 7\n",
    "\n",
    "#### A coin is thrown 3 times and one knows that head happens at least 2 times."
   ]
  },
  {
   "attachments": {},
   "cell_type": "markdown",
   "metadata": {},
   "source": [
    "### a) What is the (conditional) probability for tail with the 3rd throw?\n",
    "Event A: head happens at least 2 times\n",
    "Event B: get tail with the 3rd throw\n",
    "$$ P(A|B) = P(A\t\\cap B) / P(A) $$\n",
    "$$ P(A|B) = (1/8) / (4/8) = 1/4 $$"
   ]
  },
  {
   "attachments": {},
   "cell_type": "markdown",
   "metadata": {},
   "source": [
    "### b) Write a python program that simulates the above situation and estimates the conditional probability by a well-chosen relative frequency."
   ]
  },
  {
   "cell_type": "code",
   "execution_count": 107,
   "metadata": {},
   "outputs": [],
   "source": [
    "import numpy as np\n",
    "import scipy.stats as stats\n",
    "\n",
    "\n",
    "def demand():\n",
    "    dist = stats.multinomial(n=1, p=[1 / 2, 1 / 2])\n",
    "    # outcome: 1 for tail 0 for head\n",
    "    return int(np.where(dist.rvs(1) == 1)[1])\n",
    "\n",
    "\n",
    "def simu():\n",
    "    outcome = []\n",
    "    for i in range(3):\n",
    "        outcome.append(demand())\n",
    "    if outcome == [0, 0, 1]:\n",
    "        proba = 1\n",
    "    else:\n",
    "        proba = 0\n",
    "    return proba\n",
    "\n",
    "\n",
    "def control(times):\n",
    "    sample = [simu() for _ in range(times)]\n",
    "    counts = sample.count(1)\n",
    "    return counts\n",
    "\n",
    "\n",
    "frequency = 10000\n",
    "cnt_XXT = control(frequency)"
   ]
  },
  {
   "cell_type": "markdown",
   "source": [
    "Since it is a conditional probability $$ P(A|B) = P(A\t\\cap B) / P(A) $$ and so far we only calculated $$ P(A \\cap B) $$ we have to divide it by $$ P(A) = 4/8 = 1/2 $$"
   ],
   "metadata": {
    "collapsed": false
   }
  },
  {
   "cell_type": "code",
   "execution_count": 108,
   "outputs": [
    {
     "name": "stdout",
     "output_type": "stream",
     "text": [
      "Conditional probability with 10000 tries = 25.8 %\n"
     ]
    }
   ],
   "source": [
    "P = cnt_XXT/(4/8)\n",
    "print(\"Conditional probability with\", frequency, \"tries =\", P / frequency * 100, \"%\")"
   ],
   "metadata": {
    "collapsed": false
   }
  }
 ],
 "metadata": {
  "kernelspec": {
   "display_name": "Python 3",
   "language": "python",
   "name": "python3"
  },
  "language_info": {
   "codemirror_mode": {
    "name": "ipython",
    "version": 3
   },
   "file_extension": ".py",
   "mimetype": "text/x-python",
   "name": "python",
   "nbconvert_exporter": "python",
   "pygments_lexer": "ipython3",
   "version": "3.8.10"
  },
  "orig_nbformat": 4
 },
 "nbformat": 4,
 "nbformat_minor": 2
}
