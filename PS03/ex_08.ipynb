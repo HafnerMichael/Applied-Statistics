{
 "cells": [
  {
   "attachments": {},
   "cell_type": "markdown",
   "metadata": {},
   "source": [
    "# Exercise Sheet 3"
   ]
  },
  {
   "attachments": {},
   "cell_type": "markdown",
   "metadata": {},
   "source": [
    "## Exercise 8 \n",
    "\n",
    "Simulate a fair dice Xi ∼ U(1, 2, 3, 4, 5, 6) and generate a frequency distribution (histogram) and the empirical CDFs of a reasonable realisation of the random variable \n",
    "\n",
    "$$\n",
    "S_n=\\displaystyle\\sum_{i_1}^n \\frac{X_i - E[X_i]}{\\sqrt{n \\cdot V[X_i]}} , n = 1, 2, 3, 5, 10, 20, 50, 100\n",
    "$$\n",
    "\n",
    "\n",
    "\n",
    "\n",
    "Hereby E[Xi] = 3.5 and V [Xi] = 2.9167 the expectation and variance for one roll of\n",
    "the dice. The distribution of Sn approximates more and more a normal distribution\n",
    "N . Through standardization (subtract the expectation value, divide by the square\n",
    "root of n times the variance) Sn equalizes to N (0, 1) (plot N (0, 1) as an overlay into\n",
    "the histograms). What fundamental mathematical theorem is behind all this?"
   ]
  }
 ],
 "metadata": {
  "language_info": {
   "name": "python"
  },
  "orig_nbformat": 4
 },
 "nbformat": 4,
 "nbformat_minor": 2
}
