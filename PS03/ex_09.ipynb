{
 "cells": [
  {
   "attachments": {},
   "cell_type": "markdown",
   "metadata": {},
   "source": [
    "# Exercise Sheet 3"
   ]
  },
  {
   "attachments": {},
   "cell_type": "markdown",
   "metadata": {},
   "source": [
    "## Exercise 9\n",
    "\n",
    "\n",
    "A random variable X is distributed as follows:\n",
    "\n",
    "|   k   |   1   |   2   |   3   |\n",
    "|-------|-------|-------|-------|\n",
    "|   P[X=k]  |   0.25    |   0.15    | 0.6 |\n",
    "\n",
    "Calculate expectation and variance through"
   ]
  },
  {
   "attachments": {},
   "cell_type": "markdown",
   "metadata": {},
   "source": [
    "### a) analytical calculation according to the definitions and"
   ]
  },
  {
   "attachments": {},
   "cell_type": "markdown",
   "metadata": {},
   "source": [
    "### b) estimation using a simulation of the random variable X with n = 2000 trials."
   ]
  }
 ],
 "metadata": {
  "language_info": {
   "name": "python"
  },
  "orig_nbformat": 4
 },
 "nbformat": 4,
 "nbformat_minor": 2
}
