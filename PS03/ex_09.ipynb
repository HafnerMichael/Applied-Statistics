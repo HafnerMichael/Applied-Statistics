{
 "cells": [
  {
   "attachments": {},
   "cell_type": "markdown",
   "metadata": {},
   "source": [
    "# Exercise Sheet 3"
   ]
  },
  {
   "attachments": {},
   "cell_type": "markdown",
   "metadata": {},
   "source": [
    "## Exercise 9\n",
    "\n",
    "\n",
    "A random variable X is distributed as follows:\n",
    "\n",
    "|   k   |   1   |   2   |   3   |\n",
    "|-------|-------|-------|-------|\n",
    "|   P[X=k]  |   0.25    |   0.15    | 0.6 |\n",
    "\n",
    "Calculate expectation and variance through"
   ]
  },
  {
   "cell_type": "code",
   "execution_count": null,
   "outputs": [],
   "source": [
    "import numpy as np\n",
    "import scipy.stats as stats\n",
    "import matplotlib.pyplot as plt"
   ],
   "metadata": {
    "collapsed": false
   }
  },
  {
   "cell_type": "markdown",
   "source": [
    "### a) analytical calculation according to the definitions"
   ],
   "metadata": {
    "collapsed": false
   }
  },
  {
   "cell_type": "code",
   "execution_count": null,
   "outputs": [],
   "source": [
    "P_ONE = 0.25\n",
    "P_TWO = 0.15\n",
    "P_THREE = 0.6"
   ],
   "metadata": {
    "collapsed": false
   }
  },
  {
   "cell_type": "code",
   "execution_count": null,
   "outputs": [],
   "source": [
    "# a) code HERE\n",
    "expect_analytical = 1 * P_ONE + 2 * P_TWO + 3 * P_THREE\n",
    "#instead of subtracting the mean, we subtract the expectation value and calculate the biased variance\n",
    "var_analytical = ((1 - expect_analytical) ** 2 + (2 - expect_analytical) ** 2 + (3 - expect_analytical) ** 2) / 3\n",
    "\n",
    "print('Expectation (calculated): {:.2f}'.format(expect_analytical))\n",
    "print('Variance (calculated): {:.2f}'.format(var_analytical))"
   ],
   "metadata": {
    "collapsed": false
   }
  },
  {
   "attachments": {},
   "cell_type": "markdown",
   "metadata": {},
   "source": [
    "### b) estimation using a simulation of the random variable X with n = 2000 trials."
   ]
  },
  {
   "cell_type": "code",
   "execution_count": null,
   "outputs": [],
   "source": [
    "def demand():\n",
    "    dist = stats.multinomial(n=1, p=[P_ONE, P_TWO, P_THREE])\n",
    "    return int(np.where(dist.rvs(1)==1)[1])+1 #to start from 1 and not 0"
   ],
   "metadata": {
    "collapsed": false
   }
  },
  {
   "cell_type": "code",
   "execution_count": null,
   "outputs": [],
   "source": [
    "def simu():\n",
    "    return demand()"
   ],
   "metadata": {
    "collapsed": false
   }
  },
  {
   "cell_type": "code",
   "execution_count": null,
   "outputs": [],
   "source": [
    "def control(times):\n",
    "    sample = [simu() for _ in range(times)]\n",
    "    values, counts = np.unique(sample, return_counts=True)\n",
    "    plt.bar(values, counts)\n",
    "    return np.mean(sample), np.var(sample)"
   ],
   "metadata": {
    "collapsed": false
   }
  },
  {
   "cell_type": "code",
   "execution_count": null,
   "outputs": [],
   "source": [
    "trails = 2000\n",
    "expect, var = control(trails)\n",
    "print('Expectation: {}'.format(expect))\n",
    "print('Variance: {}'.format(var))"
   ],
   "metadata": {
    "collapsed": false
   }
  }
 ],
 "metadata": {
  "language_info": {
   "name": "python"
  },
  "orig_nbformat": 4
 },
 "nbformat": 4,
 "nbformat_minor": 2
}
