{
 "cells": [
  {
   "attachments": {},
   "cell_type": "markdown",
   "metadata": {},
   "source": [
    "# Exercise Sheet 3"
   ]
  },
  {
   "attachments": {},
   "cell_type": "markdown",
   "metadata": {},
   "source": [
    "## Exercise 10 \n",
    "\n",
    "In a group of persons each person chooses randomly and independent from each other\n",
    "2 friends (a friend can of course have multiple other friends). X denotes the number\n",
    "of persons who were not chosen. Estimate the expectation of X using an appropriate\n",
    "average of events in a simulation."
   ]
  },
  {
   "cell_type": "code",
   "execution_count": 188,
   "outputs": [],
   "source": [
    "import random"
   ],
   "metadata": {
    "collapsed": false
   }
  },
  {
   "cell_type": "code",
   "execution_count": 189,
   "outputs": [],
   "source": [
    "def exp_not_chosen_friends(n_persons, n_simulations, friends_to_be_chosen):\n",
    "\n",
    "    population = range(n_persons)\n",
    "    simulation = range(n_simulations)\n",
    "    X_total = 0\n",
    "\n",
    "    for i in simulation:\n",
    "        chosen_friends = set()\n",
    "\n",
    "        for y in population:\n",
    "            current_population = list(filter(lambda x: x != y, population))\n",
    "            for m in random.sample(current_population, friends_to_be_chosen):\n",
    "                chosen_friends.add(m)\n",
    "\n",
    "        X = n_persons - len(chosen_friends)\n",
    "        X_total += X\n",
    "    expectation = X_total / n_simulations\n",
    "\n",
    "    return expectation"
   ],
   "metadata": {
    "collapsed": false
   }
  },
  {
   "cell_type": "code",
   "execution_count": 190,
   "outputs": [
    {
     "name": "stdout",
     "output_type": "stream",
     "text": [
      "For a simulation of 25 persons and 1000 runs, we get an expecation of 3.124 persons that were not chosen. :(\n"
     ]
    }
   ],
   "source": [
    "n_persons = 25\n",
    "n_simulations = 1000\n",
    "friends_to_be_chosen = 2\n",
    "\n",
    "expectation = exp_not_chosen_friends(n_persons, n_simulations, friends_to_be_chosen)\n",
    "print(f\"For a simulation of {n_persons} persons and {n_simulations} runs, we get an expecation of {expectation} persons that were not chosen. :(\")"
   ],
   "metadata": {
    "collapsed": false
   }
  }
 ],
 "metadata": {
  "language_info": {
   "name": "python"
  },
  "orig_nbformat": 4
 },
 "nbformat": 4,
 "nbformat_minor": 2
}
