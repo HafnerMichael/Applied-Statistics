{
 "cells": [
  {
   "attachments": {},
   "cell_type": "markdown",
   "metadata": {},
   "source": [
    "# Exercise Sheet 3"
   ]
  },
  {
   "attachments": {},
   "cell_type": "markdown",
   "metadata": {},
   "source": [
    "## Exercise 10 \n",
    "\n",
    "In a group of persons each person chooses randomly and independent from each other\n",
    "2 friends (a friend can of course have multiple other friends). X denotes the number\n",
    "of persons who were not chosen. Estimate the expectation of X using an appropriate\n",
    "average of events in a simulation."
   ]
  }
 ],
 "metadata": {
  "language_info": {
   "name": "python"
  },
  "orig_nbformat": 4
 },
 "nbformat": 4,
 "nbformat_minor": 2
}
