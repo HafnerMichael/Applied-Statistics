{
 "cells": [
  {
   "attachments": {},
   "cell_type": "markdown",
   "metadata": {},
   "source": [
    "# Exercise Sheet 3"
   ]
  },
  {
   "attachments": {},
   "cell_type": "markdown",
   "metadata": {},
   "source": [
    "## Exercise 7\n",
    "\n",
    "#### A coin is thrown 3 times and one knows that head happens at least 2 times."
   ]
  },
  {
   "attachments": {},
   "cell_type": "markdown",
   "metadata": {},
   "source": [
    "### a) What is the (conditional) probability for tail with the 3rd throw?\n",
    "\n",
    "If you know that head happens 2 times the possible outcomes are:\n",
    "HHH, HHT, HTH\n",
    "\n",
    "$$ P[HHT] = 1/3"
   ]
  },
  {
   "attachments": {},
   "cell_type": "markdown",
   "metadata": {},
   "source": [
    "### b) Write a python program that simulates the above situation and estimates the conditional probability by a well-chosen relative frequency."
   ]
  },
  {
   "cell_type": "code",
   "execution_count": null,
   "metadata": {},
   "outputs": [],
   "source": [
    "import random\n",
    "\n",
    "def flipp_coin():\n",
    "    coin = [\"H\",\"T\"]\n",
    "    outcomes = []\n",
    "    for i in range(0,2):\n",
    "        outcomes.append(random.choice(coin))\n",
    "\n",
    "    #the condition is that head must happen 2 times. --> the third outcome can not be chosen randomly\n",
    "    outcomes.append( \"T\" if outcomes.count(\"H\")==2 else \"H\")\n",
    "    return outcomes\n",
    "\n",
    "def count_HHT(frequency):\n",
    "    cnt = 0\n",
    "    for i in range (frequency):\n",
    "        outcome = flipp_coin()\n",
    "        if outcome[0] == \"H\" and outcome[1] == \"H\" and outcome[2] == \"T\":\n",
    "            cnt += 1\n",
    "    return cnt\n",
    "\n",
    "frequency = 20\n",
    "cnt_HHT = count_HHT(frequency)\n",
    "\n",
    "print(\"Conditional probability with \",frequency, \" tries = \", cnt_HHT/frequency *100, \"%\")"
   ]
  }
 ],
 "metadata": {
  "kernelspec": {
   "display_name": "Python 3",
   "language": "python",
   "name": "python3"
  },
  "language_info": {
   "codemirror_mode": {
    "name": "ipython",
    "version": 3
   },
   "file_extension": ".py",
   "mimetype": "text/x-python",
   "name": "python",
   "nbconvert_exporter": "python",
   "pygments_lexer": "ipython3",
   "version": "3.8.10"
  },
  "orig_nbformat": 4
 },
 "nbformat": 4,
 "nbformat_minor": 2
}
