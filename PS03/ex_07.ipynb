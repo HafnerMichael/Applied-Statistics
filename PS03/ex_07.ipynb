{
 "cells": [
  {
   "attachments": {},
   "cell_type": "markdown",
   "metadata": {},
   "source": [
    "# Exercise Sheet 3"
   ]
  },
  {
   "attachments": {},
   "cell_type": "markdown",
   "metadata": {},
   "source": [
    "## Exercise 7\n",
    "\n",
    "#### A coin is thrown 3 times and one knows that head happens at least 2 times."
   ]
  },
  {
   "attachments": {},
   "cell_type": "markdown",
   "metadata": {},
   "source": [
    "### a) What is the (conditional) probability for tail with the 3rd throw?\n",
    "\n",
    "$$ P[HHT] + P[HTT] + P[THT] + P[TTT] = 1/3 $$"
   ]
  },
  {
   "attachments": {},
   "cell_type": "markdown",
   "metadata": {},
   "source": [
    "### b) Write a python program that simulates the above situation and estimates the conditional probability by a well-chosen relative frequency."
   ]
  },
  {
   "cell_type": "code",
   "execution_count": null,
   "metadata": {},
   "outputs": [],
   "source": [
    "import numpy as np\n",
    "import scipy.stats as stats\n",
    "\n",
    "\n",
    "def demand():\n",
    "    dist = stats.multinomial(n=1, p=[2 / 3, 1 / 3])\n",
    "    #1 for tail 0 for head\n",
    "    return int(np.where(dist.rvs(1) == 1)[1])\n",
    "\n",
    "\n",
    "def simu():\n",
    "    for i in range(2):\n",
    "        # ignore them because we are just interested in throw #3\n",
    "        temp = demand()\n",
    "\n",
    "    #thrid throw\n",
    "    return demand()\n",
    "\n",
    "\n",
    "def control(times):\n",
    "    sample = [simu() for _ in range(times)]\n",
    "    counts = sample.count(1)\n",
    "    return counts\n",
    "\n",
    "\n",
    "frequency = 2000\n",
    "cnt_XXT = control(frequency)\n",
    "print(\"Conditional probability with \", frequency, \" tries = \", cnt_XXT / frequency * 100, \"%\")"
   ]
  }
 ],
 "metadata": {
  "kernelspec": {
   "display_name": "Python 3",
   "language": "python",
   "name": "python3"
  },
  "language_info": {
   "codemirror_mode": {
    "name": "ipython",
    "version": 3
   },
   "file_extension": ".py",
   "mimetype": "text/x-python",
   "name": "python",
   "nbconvert_exporter": "python",
   "pygments_lexer": "ipython3",
   "version": "3.8.10"
  },
  "orig_nbformat": 4
 },
 "nbformat": 4,
 "nbformat_minor": 2
}
