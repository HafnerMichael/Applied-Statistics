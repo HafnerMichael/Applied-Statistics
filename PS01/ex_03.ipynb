{
 "cells": [
  {
   "cell_type": "code",
   "execution_count": null,
   "metadata": {
    "collapsed": true
   },
   "outputs": [],
   "source": [
    "import matplotlib.pyplot as plt\n",
    "import matplotlib.transforms as transforms\n",
    "import numpy as np\n",
    "import pandas as pd\n",
    "from matplotlib.patches import Ellipse"
   ]
  },
  {
   "cell_type": "code",
   "execution_count": null,
   "outputs": [],
   "source": [
    "data = pd.read_csv('wine-data_reduced.csv', delimiter=' ', header=None)\n",
    "data"
   ],
   "metadata": {
    "collapsed": false
   }
  },
  {
   "cell_type": "markdown",
   "source": [
    "#### a) Estimate the amount of data points contained in the 1−σ, 2−σ and 3−σ ellipsoid area. Data points contained in these areas exhibit a Mahalanobis distance ≤ 1, ≤ 2 and ≤ 3."
   ],
   "metadata": {
    "collapsed": false
   }
  },
  {
   "cell_type": "code",
   "execution_count": null,
   "outputs": [],
   "source": [
    "# Calculate covariance matrix and mean\n",
    "cov_matrix = np.cov(data.T)\n",
    "mean = np.mean(data, axis=None)\n",
    "sigma = np.var(data)\n",
    "# Calculate Mahalanobis distance for each data point\n",
    "distances = []\n",
    "for i in range(len(data)):\n",
    "    distance = np.sqrt(np.dot(np.dot((data.iloc[i] - mean), np.linalg.inv(cov_matrix)), (data.iloc[i] - mean)))\n",
    "    distances.append(distance)\n",
    "\n",
    "# Count number of data points in each region\n",
    "num_points_1sigma = len([d for d in distances if d <= 1])\n",
    "num_points_2sigma = len([d for d in distances if d <= 2])\n",
    "num_points_3sigma = len([d for d in distances if d <= 3])"
   ],
   "metadata": {
    "collapsed": false
   }
  },
  {
   "cell_type": "markdown",
   "source": [
    "#### b) Compare your results with those of the traditional 3 − σ rule used for the normal distribution."
   ],
   "metadata": {
    "collapsed": false
   }
  },
  {
   "cell_type": "code",
   "execution_count": null,
   "outputs": [],
   "source": [
    "print('Mahalanobis values:')\n",
    "print('Number of points within 1-sigma ellipsoid: ', num_points_1sigma)\n",
    "print('Number of points within 2-sigma ellipsoid: ', num_points_2sigma)\n",
    "print('Number of points within 3-sigma ellipsoid: ', num_points_3sigma)\n",
    "print('-----------------------------------------------')\n",
    "print('Normal Distribution:')\n",
    "print('3-Sigma: ', len(data) * 0.9973)\n",
    "print('2-Sigma: ', len(data) * 0.9545)\n",
    "print('1-Sigma: ', len(data) * 0.6827)"
   ],
   "metadata": {
    "collapsed": false
   }
  },
  {
   "cell_type": "code",
   "execution_count": null,
   "outputs": [],
   "source": [
    "\"\"\"\n",
    "FOUND HERE:\n",
    "https://matplotlib.org/stable/gallery/statistics/confidence_ellipse.html\n",
    "\"\"\"\n",
    "\n",
    "\n",
    "def confidence_ellipse(x, y, ax, n_std=3.0, facecolor='none', **kwargs):\n",
    "    \"\"\"\n",
    "    Create a plot of the covariance confidence ellipse of *x* and *y*.\n",
    "\n",
    "    Parameters\n",
    "    ----------\n",
    "    x, y : array-like, shape (n, )\n",
    "        Input data.\n",
    "\n",
    "    ax : matplotlib.axes.Axes\n",
    "        The axes object to draw the ellipse into.\n",
    "\n",
    "    n_std : float\n",
    "        The number of standard deviations to determine the ellipse's radiuses.\n",
    "\n",
    "    **kwargs\n",
    "        Forwarded to `~matplotlib.patches.Ellipse`\n",
    "\n",
    "    Returns\n",
    "    -------\n",
    "    matplotlib.patches.Ellipse\n",
    "    \"\"\"\n",
    "    if x.size != y.size:\n",
    "        raise ValueError(\"x and y must be the same size\")\n",
    "\n",
    "    cov = np.cov(x, y)\n",
    "    pearson = cov[0, 1] / np.sqrt(cov[0, 0] * cov[1, 1])\n",
    "    # Using a special case to obtain the eigenvalues of this\n",
    "    # two-dimensional dataset.\n",
    "    ell_radius_x = np.sqrt(1 + pearson)\n",
    "    ell_radius_y = np.sqrt(1 - pearson)\n",
    "    ellipse = Ellipse((0, 0), width=ell_radius_x * 2, height=ell_radius_y * 2,\n",
    "                      facecolor=facecolor, **kwargs)\n",
    "\n",
    "    # Calculating the standard deviation of x from\n",
    "    # the squareroot of the variance and multiplying\n",
    "    # with the given number of standard deviations.\n",
    "    scale_x = np.sqrt(cov[0, 0]) * n_std\n",
    "    mean_x = np.mean(x)\n",
    "\n",
    "    # calculating the standard deviation of y ...\n",
    "    scale_y = np.sqrt(cov[1, 1]) * n_std\n",
    "    mean_y = np.mean(y)\n",
    "\n",
    "    transf = transforms.Affine2D() \\\n",
    "        .rotate_deg(45) \\\n",
    "        .scale(scale_x, scale_y) \\\n",
    "        .translate(mean_x, mean_y)\n",
    "\n",
    "    ellipse.set_transform(transf + ax.transData)\n",
    "    return ax.add_patch(ellipse)"
   ],
   "metadata": {
    "collapsed": false
   }
  },
  {
   "cell_type": "code",
   "execution_count": null,
   "outputs": [],
   "source": [
    "def get_correlated_dataset(n, dependency, mu, scale):\n",
    "    latent = np.random.randn(n, 2)\n",
    "    dependent = latent.dot(dependency)\n",
    "    scaled = dependent * scale\n",
    "    scaled_with_offset = scaled + mu\n",
    "    # return x and y of the new, correlated dataset\n",
    "    return scaled_with_offset[:, 0], scaled_with_offset[:, 1]"
   ],
   "metadata": {
    "collapsed": false
   }
  },
  {
   "cell_type": "markdown",
   "source": [
    "#### c) Visualize your results."
   ],
   "metadata": {
    "collapsed": false
   }
  },
  {
   "cell_type": "code",
   "execution_count": null,
   "outputs": [],
   "source": [
    "fig, ax_nstd = plt.subplots(figsize=(6, 6))\n",
    "\n",
    "dependency_nstd = [[0.8, 0.75],\n",
    "                   [-0.2, 0.35]]\n",
    "mu = 0, 0\n",
    "scale = 8, 5\n",
    "\n",
    "ax_nstd.axvline(c='grey', lw=1)\n",
    "ax_nstd.axhline(c='grey', lw=1)\n",
    "\n",
    "x, y = get_correlated_dataset(500, dependency_nstd, mu, scale)\n",
    "ax_nstd.scatter(data.iloc[:, 0], data.iloc[:, 1], s=0.5)\n",
    "\n",
    "confidence_ellipse(data.iloc[:, 0], data.iloc[:, 1], ax_nstd, n_std=1,\n",
    "                   label=r'$1\\sigma$', edgecolor='firebrick')\n",
    "confidence_ellipse(data.iloc[:, 0], data.iloc[:, 1], ax_nstd, n_std=2,\n",
    "                   label=r'$2\\sigma$', edgecolor='fuchsia', linestyle='--')\n",
    "confidence_ellipse(data.iloc[:, 0], data.iloc[:, 1], ax_nstd, n_std=3,\n",
    "                   label=r'$3\\sigma$', edgecolor='blue', linestyle=':')\n",
    "\n",
    "ax_nstd.scatter(mu[0], mu[1], c='red', s=3)\n",
    "ax_nstd.set_title('Different standard deviations')\n",
    "ax_nstd.legend()\n",
    "plt.show()"
   ],
   "metadata": {
    "collapsed": false
   }
  },
  {
   "cell_type": "markdown",
   "source": [
    "#### d) What happens if you normalize the axis by the corresponding eigenvalues?"
   ],
   "metadata": {
    "collapsed": false
   }
  },
  {
   "cell_type": "code",
   "execution_count": null,
   "outputs": [],
   "source": [
    "eig_vals, eig_vecs = np.linalg.eig(cov_matrix)\n",
    "\n",
    "# Sort the eigenvalues and eigenvectors in descending order based on the eigenvalues\n",
    "sort_indices = np.argsort(eig_vals)[::-1]\n",
    "eig_vals = eig_vals[sort_indices]\n",
    "eig_vecs = eig_vecs[:, sort_indices]\n",
    "\n",
    "\n",
    "\"\"\"\n",
    "We divide by the square root of the eigenvalues because the eigenvalues represent the variances of the principal components.\n",
    "By dividing each component of the data by the square root of its corresponding eigenvalue, we scale the data in such a way\n",
    "that the variances of the principal components become equal to 1.\n",
    "\n",
    "This has the effect of \"normalizing\" the data with respect to the principal components.\n",
    "It ensures that each component has the same scale and therefore the same \"importance\" in terms of the variability of the data.\n",
    "\"\"\"\n",
    "# Calculate the normalization matrix\n",
    "norm_mat = np.dot(eig_vecs, np.diag(1 / np.sqrt(eig_vals)))\n",
    "\n",
    "# Apply the normalization\n",
    "norm_data = np.dot(data, norm_mat)\n",
    "\n",
    "fig, ax_nstd = plt.subplots(figsize=(6, 6))\n",
    "\n",
    "# plot result\n",
    "dependency_nstd = [[0.8, 0.75],\n",
    "                   [-0.2, 0.35]]\n",
    "mu = 0, 0\n",
    "scale = 8, 5\n",
    "\n",
    "ax_nstd.axvline(c='grey', lw=1)\n",
    "ax_nstd.axhline(c='grey', lw=1)\n",
    "\n",
    "x, y = get_correlated_dataset(500, dependency_nstd, mu, scale)\n",
    "ax_nstd.scatter(norm_data[:, 0], norm_data[:, 1], s=0.5)\n",
    "\n",
    "confidence_ellipse(norm_data[:, 0], norm_data[:, 1], ax_nstd, n_std=1,\n",
    "                   label=r'$1\\sigma$', edgecolor='firebrick')\n",
    "confidence_ellipse(norm_data[:, 0], norm_data[:, 1], ax_nstd, n_std=2,\n",
    "                   label=r'$2\\sigma$', edgecolor='fuchsia', linestyle='--')\n",
    "confidence_ellipse(norm_data[:, 0], norm_data[:, 1], ax_nstd, n_std=3,\n",
    "                   label=r'$3\\sigma$', edgecolor='blue', linestyle=':')\n",
    "\n",
    "ax_nstd.scatter(mu[0], mu[1], c='red', s=3)\n",
    "ax_nstd.set_title('Different standard deviations (Normalized)')\n",
    "ax_nstd.legend()\n",
    "plt.show()"
   ],
   "metadata": {
    "collapsed": false
   }
  },
  {
   "cell_type": "code",
   "execution_count": null,
   "outputs": [],
   "source": [
    "# Do see that the mean changes to 0 and the standard deviation to 1\n",
    "df = pd.DataFrame(norm_data)\n",
    "print('Comparison of Means: Orig:{} Normalized:{}'.format(np.asarray(data.describe()[1:2]), np.asarray(df.describe()[1:2])))\n",
    "print('Comparison of STD: Orig:{} Normalized:{}'.format(np.asarray(data.describe()[2:3]), np.asarray(df.describe()[2:3])))\n",
    "df.describe()"
   ],
   "metadata": {
    "collapsed": false
   }
  }
 ],
 "metadata": {
  "kernelspec": {
   "display_name": "Python 3",
   "language": "python",
   "name": "python3"
  },
  "language_info": {
   "codemirror_mode": {
    "name": "ipython",
    "version": 2
   },
   "file_extension": ".py",
   "mimetype": "text/x-python",
   "name": "python",
   "nbconvert_exporter": "python",
   "pygments_lexer": "ipython2",
   "version": "2.7.6"
  }
 },
 "nbformat": 4,
 "nbformat_minor": 0
}
