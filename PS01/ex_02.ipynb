{
 "cells": [
  {
   "cell_type": "code",
   "execution_count": null,
   "metadata": {
    "collapsed": true
   },
   "outputs": [],
   "source": [
    "from sklearn.datasets import load_wine\n",
    "import numpy as np\n",
    "import matplotlib.pyplot as plt"
   ]
  },
  {
   "cell_type": "code",
   "execution_count": null,
   "outputs": [],
   "source": [
    "def myPCA(X, n_components):\n",
    "    # 1. standardize data\n",
    "    X_Mean = X - np.mean(X, axis=0)\n",
    "\n",
    "    # 2. calculate covariance matrix\n",
    "    cov = np.cov(X_Mean, rowvar=False)\n",
    "\n",
    "    # 3. calculate eigenvalues and eigenvectors\n",
    "    eigen_val, eigen_vect = np.linalg.eigh(cov)\n",
    "\n",
    "    # 4. sort eigenvalues and vectors descending\n",
    "    sorted_index = np.argsort(eigen_val)[::-1] # argsort determines indices as ascending [::-1] switches the order\n",
    "    sorted_eigenvalues = eigen_val[sorted_index]\n",
    "    sorted_eigenvectors = eigen_vect[sorted_index]\n",
    "    print(\"Eigenvalues: {}\".format(sorted_eigenvalues))\n",
    "\n",
    "    # 5. create the subsets of the eigenvalues (PCAs)\n",
    "    pcs = sorted_eigenvectors[:,:n_components]\n",
    "\n",
    "    # 6. transform data\n",
    "    return np.dot(pcs.transpose(), X_Mean.transpose()).transpose(), sorted_index[:n_components]\n"
   ],
   "metadata": {
    "collapsed": false
   }
  },
  {
   "cell_type": "code",
   "execution_count": null,
   "outputs": [],
   "source": [
    "x, y = load_wine(return_X_y = True)  #split into features X and labels y\n",
    "\n",
    "principal_components, index = myPCA(x,2)\n",
    "\n",
    "plt.scatter(principal_components[:,0], principal_components[:,1])\n",
    "plt.title('Result of own PCA')\n",
    "plt.xlabel('PC1 Index:{}'.format(index[0]))\n",
    "plt.ylabel('PC2 Index:{}'.format(index[1]))"
   ],
   "metadata": {
    "collapsed": false
   }
  }
 ],
 "metadata": {
  "kernelspec": {
   "display_name": "Python 3",
   "language": "python",
   "name": "python3"
  },
  "language_info": {
   "codemirror_mode": {
    "name": "ipython",
    "version": 2
   },
   "file_extension": ".py",
   "mimetype": "text/x-python",
   "name": "python",
   "nbconvert_exporter": "python",
   "pygments_lexer": "ipython2",
   "version": "2.7.6"
  }
 },
 "nbformat": 4,
 "nbformat_minor": 0
}
