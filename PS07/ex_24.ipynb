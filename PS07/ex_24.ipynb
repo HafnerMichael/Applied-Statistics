{
 "cells": [
  {
   "cell_type": "code",
   "execution_count": null,
   "metadata": {
    "ExecuteTime": {
     "end_time": "2023-06-01T09:06:20.868101955Z",
     "start_time": "2023-06-01T09:06:20.721454716Z"
    }
   },
   "outputs": [],
   "source": [
    "import numpy as np\n",
    "import matplotlib.pyplot as plt\n",
    "import seaborn as sns\n",
    "import scipy.stats as stats"
   ]
  },
  {
   "cell_type": "markdown",
   "metadata": {
    "collapsed": false,
    "jupyter": {
     "outputs_hidden": false
    }
   },
   "source": [
    "### a.)"
   ]
  },
  {
   "cell_type": "code",
   "execution_count": null,
   "metadata": {
    "ExecuteTime": {
     "end_time": "2023-06-01T09:06:20.889502580Z",
     "start_time": "2023-06-01T09:06:20.751939825Z"
    },
    "collapsed": false,
    "jupyter": {
     "outputs_hidden": false
    }
   },
   "outputs": [],
   "source": [
    "def myev(a, b):\n",
    "    r = np.random.rand()\n",
    "    # x = Finv(r)\n",
    "    x = np.log(-np.log(r)) * b + a\n",
    "    return x"
   ]
  },
  {
   "cell_type": "code",
   "execution_count": null,
   "metadata": {
    "ExecuteTime": {
     "end_time": "2023-06-01T09:06:21.429728139Z",
     "start_time": "2023-06-01T09:06:20.765380561Z"
    },
    "collapsed": false,
    "jupyter": {
     "outputs_hidden": false
    }
   },
   "outputs": [],
   "source": [
    "a = 50\n",
    "b = 50\n",
    "n = 1000\n",
    "\n",
    "dist = [myev(a,b) for _ in range(n)]\n",
    "\n",
    "sns.histplot(dist, kde=True)\n",
    "plt.title('Extreme Value Distribution')\n",
    "plt.xlabel('x-value')\n",
    "plt.show()"
   ]
  },
  {
   "cell_type": "markdown",
   "metadata": {
    "collapsed": false,
    "jupyter": {
     "outputs_hidden": false
    }
   },
   "source": [
    "#### b.)"
   ]
  },
  {
   "cell_type": "code",
   "execution_count": null,
   "metadata": {
    "ExecuteTime": {
     "end_time": "2023-06-01T09:06:21.430784639Z",
     "start_time": "2023-06-01T09:06:21.426671366Z"
    },
    "collapsed": false,
    "jupyter": {
     "outputs_hidden": false
    }
   },
   "outputs": [],
   "source": [
    "def simu():\n",
    "    # Get 12 values from myev()\n",
    "    water_level = np.array([myev(10,2) for _ in range(12)])\n",
    "\n",
    "    annual_mean = np.mean(water_level)\n",
    "\n",
    "    # len counts number of monts where the water level was below mean\n",
    "    return 0 if len(water_level[water_level < annual_mean]) < 6 else 1"
   ]
  },
  {
   "cell_type": "markdown",
   "metadata": {
    "collapsed": false,
    "jupyter": {
     "outputs_hidden": false
    }
   },
   "source": [
    "#### c.)"
   ]
  },
  {
   "cell_type": "code",
   "execution_count": null,
   "metadata": {
    "ExecuteTime": {
     "end_time": "2023-06-01T09:06:21.431688533Z",
     "start_time": "2023-06-01T09:06:21.427151809Z"
    },
    "collapsed": false,
    "jupyter": {
     "outputs_hidden": false
    }
   },
   "outputs": [],
   "source": [
    "# Reused from older exercise\n",
    "def determine_n():\n",
    "    alpha = 0.05\n",
    "    confidence = 0.95\n",
    "    n_target = (stats.norm.ppf(1-((1-confidence)/2)) / (alpha * 2)) ** 2\n",
    "    return int(np.ceil(n_target))"
   ]
  },
  {
   "cell_type": "code",
   "execution_count": null,
   "metadata": {
    "ExecuteTime": {
     "end_time": "2023-06-01T09:06:21.431688533Z",
     "start_time": "2023-06-01T09:06:21.427151809Z"
    },
    "collapsed": false,
    "jupyter": {
     "outputs_hidden": false
    }
   },
   "outputs": [],
   "source": [
    "def control():\n",
    "    # Target simulation number\n",
    "    n = determine_n()\n",
    "    print('Determined sample size: ',n)\n",
    "\n",
    "    # Perform simulation and count good years\n",
    "    data = np.array([simu() for _ in range(n)])\n",
    "    good_years = np.sum(data)\n",
    "\n",
    "    # Return relative amount of good years\n",
    "    return good_years/n\n",
    "\n",
    "print('Good years: %.2f%%' % (control() * 100))"
   ]
  }
 ],
 "metadata": {
  "kernelspec": {
   "display_name": "Python 3 (ipykernel)",
   "language": "python",
   "name": "python3"
  },
  "language_info": {
   "codemirror_mode": {
    "name": "ipython",
    "version": 3
   },
   "file_extension": ".py",
   "mimetype": "text/x-python",
   "name": "python",
   "nbconvert_exporter": "python",
   "pygments_lexer": "ipython3",
   "version": "3.11.3"
  }
 },
 "nbformat": 4,
 "nbformat_minor": 4
}
