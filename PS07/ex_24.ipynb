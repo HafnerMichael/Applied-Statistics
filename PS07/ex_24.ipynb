{
 "cells": [
  {
   "cell_type": "code",
   "execution_count": null,
   "metadata": {
    "collapsed": true
   },
   "outputs": [],
   "source": [
    "import numpy as np\n",
    "import matplotlib.pyplot as plt\n",
    "import seaborn as sns\n",
    "import scipy.stats as stats"
   ]
  },
  {
   "cell_type": "markdown",
   "source": [
    "### a.)"
   ],
   "metadata": {
    "collapsed": false
   }
  },
  {
   "cell_type": "code",
   "execution_count": null,
   "outputs": [],
   "source": [
    "def myev(a, b):\n",
    "    r = np.random.rand()\n",
    "    x = np.log(-np.log(r)) * b + a\n",
    "    return x"
   ],
   "metadata": {
    "collapsed": false
   }
  },
  {
   "cell_type": "code",
   "execution_count": null,
   "outputs": [],
   "source": [
    "a = 1000\n",
    "b = 50\n",
    "times = 1000\n",
    "\n",
    "dist = [myev(a,b) for _ in range(times)]\n",
    "\n",
    "sns.histplot(dist, kde=True)\n",
    "plt.title('Extreme value distribution')\n",
    "plt.xlabel('Value')\n",
    "plt.show()"
   ],
   "metadata": {
    "collapsed": false
   }
  },
  {
   "cell_type": "markdown",
   "source": [
    "#### b.)"
   ],
   "metadata": {
    "collapsed": false
   }
  },
  {
   "cell_type": "code",
   "execution_count": null,
   "outputs": [],
   "source": [
    "def simu():\n",
    "    water_level = np.array([myev(10,2) for _ in range(12)])\n",
    "    annual_mean = np.mean(water_level)\n",
    "    return 0 if len(water_level[water_level < annual_mean]) < 6 else 1"
   ],
   "metadata": {
    "collapsed": false
   }
  },
  {
   "cell_type": "markdown",
   "source": [
    "#### c.)"
   ],
   "metadata": {
    "collapsed": false
   }
  },
  {
   "cell_type": "code",
   "execution_count": null,
   "outputs": [],
   "source": [
    "def determine_n():\n",
    "    alpha = 0.05\n",
    "    confidence = 0.95\n",
    "    n = 100\n",
    "    # RIGHT WITH simu() OR DO I NEED OUTPUTS OF myev() (so the real datapoints)????\n",
    "    data = np.array([simu() for _ in range(n)])\n",
    "    #data = np.array([myev(10,2) for _ in range(n)])\n",
    "    sigma_hat = np.std(data, ddof=1)\n",
    "    # script page 21\n",
    "    k = stats.t.ppf(1-((1-confidence)/2), n-1)\n",
    "    # (k*sigma_hat)/sqrt(n) = alpha <- rearranged to n\n",
    "    n_target = (k*sigma_hat/alpha)**2\n",
    "    return int(np.ceil(n_target))\n",
    "\n",
    "def control():\n",
    "    n = determine_n()\n",
    "    print('Determined sample size: ',n)\n",
    "    data = np.array([simu() for _ in range(n)])\n",
    "    good_years = np.sum(data)\n",
    "    p = good_years/n\n",
    "    print('Percentage of good years: ',p)"
   ],
   "metadata": {
    "collapsed": false
   }
  },
  {
   "cell_type": "code",
   "execution_count": null,
   "outputs": [],
   "source": [
    "control()"
   ],
   "metadata": {
    "collapsed": false
   }
  }
 ],
 "metadata": {
  "kernelspec": {
   "display_name": "Python 3",
   "language": "python",
   "name": "python3"
  },
  "language_info": {
   "codemirror_mode": {
    "name": "ipython",
    "version": 2
   },
   "file_extension": ".py",
   "mimetype": "text/x-python",
   "name": "python",
   "nbconvert_exporter": "python",
   "pygments_lexer": "ipython2",
   "version": "2.7.6"
  }
 },
 "nbformat": 4,
 "nbformat_minor": 0
}
