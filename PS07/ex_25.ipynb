{
 "cells": [
  {
   "cell_type": "code",
   "execution_count": null,
   "id": "b012b9a6-6da7-4aed-9642-489f4bf59315",
   "metadata": {},
   "outputs": [],
   "source": [
    "import numpy as np\n",
    "import matplotlib.pyplot as plt\n",
    "import seaborn as sns\n",
    "import scipy.stats as stats\n",
    "import collections as coll"
   ]
  },
  {
   "cell_type": "code",
   "execution_count": null,
   "id": "22575a45-f672-4ed3-a500-1bbf4c62f864",
   "metadata": {},
   "outputs": [],
   "source": [
    "n = 1000\n",
    "lag = 0.05"
   ]
  },
  {
   "cell_type": "code",
   "execution_count": null,
   "id": "bbb6708e-cbf8-43d1-99fa-803639f3f025",
   "metadata": {},
   "outputs": [],
   "source": [
    "def simu():\n",
    "    dice = list(np.arange(1,6+1))\n",
    "    return np.random.choice(dice, 1, p=[1/6-lag, 1/6, 1/6, 1/6, 1/6, 1/6+lag])    "
   ]
  },
  {
   "cell_type": "code",
   "execution_count": null,
   "id": "6a60978c-c2c2-4357-9446-900c8f0046d4",
   "metadata": {},
   "outputs": [],
   "source": [
    "def control():\n",
    "    # Target simulation number n\n",
    "\n",
    "    # Perform simulation and\n",
    "    data = np.array([simu() for _ in range(n)])\n",
    "    # Return relative amount of good years\n",
    "    return data"
   ]
  },
  {
   "cell_type": "code",
   "execution_count": null,
   "id": "2da7ac09-343f-463b-b987-78b1a7d6d6a8",
   "metadata": {
    "scrolled": true
   },
   "outputs": [],
   "source": [
    "result = control()\n",
    "count = (result == 6).sum()\n",
    "rel = count / 1000\n",
    "print('Probability of rolling a 6: %.2f%%' % rel)\n",
    "print('Fair dice:                  %.2f%%' % (1/6))"
   ]
  },
  {
   "cell_type": "markdown",
   "id": "627f9ef6-2292-452d-9635-3f4cd4a818ed",
   "metadata": {},
   "source": [
    "## Statistical Test"
   ]
  },
  {
   "cell_type": "raw",
   "id": "8445e7aa-1fa9-4b83-8a20-84459e717bd6",
   "metadata": {},
   "source": [
    "H0: The model of a fair dice applies. The observed results can be described using a uniform distribution."
   ]
  },
  {
   "cell_type": "code",
   "execution_count": null,
   "id": "78c04352-5f36-42c1-9020-150c61b2916c",
   "metadata": {},
   "outputs": [],
   "source": [
    "# Prepare observed and actual dataset\n",
    "expected_data = list(coll.Counter(np.random.randint(1,7,n)).values())\n",
    "observed_data = list(coll.Counter(control().flatten()).values())\n",
    "\n",
    "print(expected_data)\n",
    "print(observed_data)\n",
    "\n",
    "# Chi-Square Goodness of Fit Test\n",
    "chi_square_test_statistic, p_value = stats.chisquare(observed_data, expected_data)\n",
    "  \n",
    "# chi square test statistic and p value\n",
    "print('\\nchi_square_test_statistic is: %.2f%%' % (chi_square_test_statistic))\n",
    "print('p_value:                      %.8f%%' % (p_value))\n",
    "  \n",
    "# find Chi-Square critical value\n",
    "print('critical value:               %.2f' % stats.chi2.ppf(1-0.05, df=6))\n",
    "\n",
    "# result\n",
    "print('H0: ' + str((chi_square_test_statistic <= stats.chi2.ppf(1-0.05, df=6))))"
   ]
  },
  {
   "cell_type": "code",
   "execution_count": null,
   "id": "e1cffcfb-6112-491c-86ef-64adbb43902a",
   "metadata": {},
   "outputs": [],
   "source": [
    "def statstest():\n",
    "    # Prepare observed and actual dataset\n",
    "    expected_data = list(coll.Counter(np.random.randint(1,7,n)).values())\n",
    "    observed_data = list(coll.Counter(control().flatten()).values())\n",
    "        \n",
    "    # Chi-Square Goodness of Fit Test\n",
    "    chi_square_test_statistic, p_value = stats.chisquare(observed_data, expected_data)\n",
    "    \n",
    "    # result\n",
    "    return ((chi_square_test_statistic <= stats.chi2.ppf(1-0.05, df=6)))"
   ]
  },
  {
   "cell_type": "code",
   "execution_count": null,
   "id": "8bf50a29-7abd-465e-8e9f-49ba872de452",
   "metadata": {},
   "outputs": [],
   "source": [
    "n = 50\n",
    "data = np.array([simu() for _ in range(1000)])\n",
    "count = (data == True).sum()\n",
    "rel = count / 1000\n",
    "print('Accepted H0: %.2f%%' % rel)"
   ]
  }
 ],
 "metadata": {
  "kernelspec": {
   "display_name": "Python 3 (ipykernel)",
   "language": "python",
   "name": "python3"
  },
  "language_info": {
   "codemirror_mode": {
    "name": "ipython",
    "version": 3
   },
   "file_extension": ".py",
   "mimetype": "text/x-python",
   "name": "python",
   "nbconvert_exporter": "python",
   "pygments_lexer": "ipython3",
   "version": "3.11.3"
  }
 },
 "nbformat": 4,
 "nbformat_minor": 5
}
