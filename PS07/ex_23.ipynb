{
 "cells": [
  {
   "cell_type": "code",
   "execution_count": null,
   "metadata": {},
   "outputs": [],
   "source": [
    "import numpy as np\n",
    "import scipy.stats as stats"
   ]
  },
  {
   "cell_type": "code",
   "execution_count": null,
   "metadata": {},
   "outputs": [],
   "source": [
    "# Normal distributed connection time between flight 1 and 2\n",
    "def get_connection_time_t1_2():\n",
    "    return np.random.randn(1) * 45 + 115\n",
    "    \n",
    "# Normal distributed connection time between flight 2 and 3\n",
    "def get_connection_time_t2_3():\n",
    "    return np.random.randn(1)* 25 + 70"
   ]
  },
  {
   "cell_type": "code",
   "execution_count": null,
   "metadata": {},
   "outputs": [],
   "source": [
    "# Probability of catching the flight as given in task\n",
    "def get_connection_prob(t):\n",
    "    return 1/(1+ np.exp(-t/10+6))"
   ]
  },
  {
   "cell_type": "code",
   "execution_count": null,
   "metadata": {},
   "outputs": [],
   "source": [
    "# Simulate two flights\n",
    "# For each flight a probability is generated, afterwards it is compared to a random variable\n",
    "# between 0 and 1. This leads to a boolean value which can be further processed.\n",
    "def simuflight():\n",
    "    catch_flight2 : bool = get_connection_prob(get_connection_time_t1_2()) > np.random.uniform()\n",
    "    catch_flight3 : bool = get_connection_prob(get_connection_time_t2_3()) > np.random.uniform()\n",
    "    return catch_flight2 and catch_flight3"
   ]
  },
  {
   "cell_type": "code",
   "execution_count": null,
   "metadata": {},
   "outputs": [],
   "source": [
    "# Run the simulation n times and calculate the estimated probability of no missed connection\n",
    "def control(times):\n",
    "    sample = [simuflight() for _ in range(times)]\n",
    "    return np.sum(sample) / times\n",
    "\n",
    "# Call control() with some reasonable value of n\n",
    "n = 100000\n",
    "estimator = control(n)"
   ]
  },
  {
   "cell_type": "code",
   "execution_count": null,
   "metadata": {},
   "outputs": [],
   "source": [
    "# Compute the 95% confidence interval\n",
    "alpha = 0.05\n",
    "z = stats.norm.ppf(1-alpha/2)\n",
    "se = np.sqrt(estimator * (1 - estimator) / n)\n",
    "ci = (estimator - z * se, estimator + z * se)\n",
    "\n",
    "# Output confidence interval to console\n",
    "print(\"Confidence interval:\", ci)"
   ]
  }
 ],
 "metadata": {
  "kernelspec": {
   "display_name": "Python 3 (ipykernel)",
   "language": "python",
   "name": "python3"
  },
  "language_info": {
   "codemirror_mode": {
    "name": "ipython",
    "version": 3
   },
   "file_extension": ".py",
   "mimetype": "text/x-python",
   "name": "python",
   "nbconvert_exporter": "python",
   "pygments_lexer": "ipython3",
   "version": "3.11.3"
  }
 },
 "nbformat": 4,
 "nbformat_minor": 4
}
