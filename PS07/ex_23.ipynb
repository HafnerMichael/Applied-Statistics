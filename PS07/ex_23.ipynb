{
 "cells": [
  {
   "cell_type": "code",
   "execution_count": null,
   "metadata": {},
   "outputs": [],
   "source": [
    "import numpy as np\n",
    "import scipy.stats as stats"
   ]
  },
  {
   "cell_type": "code",
   "execution_count": null,
   "metadata": {},
   "outputs": [],
   "source": [
    "def get_connection_time_t1():\n",
    "    return np.random.randn(1) * 45 + 115\n",
    "\n",
    "def get_connection_time_t2():\n",
    "    return np.random.randn(1)* 25 + 70\n",
    "\n",
    "def get_connection_prob(t):\n",
    "    return 1/(1+ np.exp(-t/10+6))\n",
    "def simu():\n",
    "    catch_flight1 : bool = get_connection_prob(get_connection_time_t1()) > np.random.uniform()\n",
    "    catch_flight2 : bool = get_connection_prob(get_connection_time_t2()) > np.random.uniform()\n",
    "    return catch_flight1 and catch_flight2\n",
    "    \n",
    "def control(times):\n",
    "    sample = [simu() for _ in range(times)]\n",
    "    return np.sum(sample)/times\n",
    "\n",
    "n = 100_000\n",
    "# Call control() with some reasonable value of n\n",
    "estimator = control(n)\n",
    "\n",
    "# Compute confidence interval\n",
    "alpha = 0.05\n",
    "z = stats.norm.ppf(1-alpha/2)\n",
    "se = np.sqrt(estimator * (1 - estimator) / n)\n",
    "ci = (estimator - z * se, estimator + z * se)\n",
    "\n",
    "# Output confidence interval to console\n",
    "print(\"Confidence interval:\", ci)"
   ]
  }
 ],
 "metadata": {
  "kernelspec": {
   "display_name": "Python 3",
   "language": "python",
   "name": "python3"
  },
  "language_info": {
   "codemirror_mode": {
    "name": "ipython",
    "version": 3
   },
   "file_extension": ".py",
   "mimetype": "text/x-python",
   "name": "python",
   "nbconvert_exporter": "python",
   "pygments_lexer": "ipython3",
   "version": "3.8.10"
  },
  "orig_nbformat": 4
 },
 "nbformat": 4,
 "nbformat_minor": 2
}
