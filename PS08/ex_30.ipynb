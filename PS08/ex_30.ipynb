{
 "cells": [
  {
   "attachments": {},
   "cell_type": "markdown",
   "metadata": {},
   "source": [
    "# Exercise Sheet 8 "
   ]
  },
  {
   "attachments": {},
   "cell_type": "markdown",
   "metadata": {},
   "source": [
    "## Exercise 30\n",
    "\n",
    "Implement a simulation of a galton board with n = 2 layers: from the top, a ball\n",
    "runs onto the first nail and subsequently to the left or the right, each time onto a\n",
    "second nail. If the ball runs twice left from the nail, it drops into container B0 . If the\n",
    "ball runs one time left and then right or vice versa, it drops into container B1 . All\n",
    "other balls drop into container B2 . In total N = 100 balls are rolled. The expected\n",
    "number of balls follows (based on the linearity of the expectation value) a binominal\n",
    "distribution multiplied with the number N \n",
    "\n",
    "\n",
    "Therefore, the direction of the ball at a nail to the right is considered as ’success’\n",
    "and their number counted to compute container k, into which the ball drops. Which\n",
    "statistical test finds here its correct application and can the test reliably recognise a\n",
    "skewed first nail, which directs the ball in 60% to the left (5% level of significance)?"
   ]
  },
  {
   "cell_type": "code",
   "execution_count": 1,
   "metadata": {},
   "outputs": [],
   "source": [
    "import pandas as pd\n",
    "import numpy as np\n",
    "import math\n",
    "import scipy.stats as stats\n",
    "import scipy.special\n",
    "import random\n",
    "import matplotlib.pyplot as plt\n",
    "from scipy.stats import ttest_1samp, shapiro, wilcoxon, binomtest"
   ]
  },
  {
   "cell_type": "code",
   "execution_count": 2,
   "metadata": {},
   "outputs": [],
   "source": [
    "# Hitting a nail is like tossing a coin\n",
    "def hitNail():\n",
    "    return random.randint(1, 2)"
   ]
  },
  {
   "cell_type": "code",
   "execution_count": 3,
   "metadata": {},
   "outputs": [],
   "source": [
    "#\n",
    "def hitNailSkewed():\n",
    "    return np.random.binomial(1, 0.6, size=None)"
   ]
  },
  {
   "cell_type": "code",
   "execution_count": 4,
   "metadata": {},
   "outputs": [],
   "source": [
    "# Simulate the path through the galton board with 2 layers\n",
    "def simu():\n",
    "    Nail1 = hitNail()\n",
    "    #Nail1 = hitNailSkewed()\n",
    "    Nail2 = hitNail()\n",
    "\n",
    "    if Nail1 == 1 and Nail2 == 1:\n",
    "        return 0\n",
    "    elif Nail1 == 1 and Nail2 == 2:\n",
    "        return 1\n",
    "    elif Nail1 == 2 and Nail2 == 1:\n",
    "        return 1\n",
    "    else:\n",
    "        return 2"
   ]
  },
  {
   "cell_type": "code",
   "execution_count": 5,
   "metadata": {},
   "outputs": [
    {
     "data": {
      "text/plain": [
       "(array([20., 56., 24.]),\n",
       " array([0., 1., 2., 3.]),\n",
       " <BarContainer object of 3 artists>)"
      ]
     },
     "execution_count": 5,
     "metadata": {},
     "output_type": "execute_result"
    },
    {
     "data": {
      "image/png": "[encoded data removed]",
      "text/plain": [
       "<Figure size 640x480 with 1 Axes>"
      ]
     },
     "metadata": {},
     "output_type": "display_data"
    }
   ],
   "source": [
    "def control(times):\n",
    "    sample = [simu() for _ in range(times)]\n",
    "    return sample\n",
    "\n",
    "# Run simulation for 100 times and count occurences\n",
    "n = 100\n",
    "data = control(n)\n",
    "plt.hist(data, bins=np.arange(0,4))"
   ]
  },
  {
   "cell_type": "code",
   "execution_count": 6,
   "metadata": {},
   "outputs": [
    {
     "name": "stdout",
     "output_type": "stream",
     "text": [
      "p = 0.29837210\n",
      "H0 (The data is not normal distributed) has not been rejected.\n"
     ]
    }
   ],
   "source": [
    "H0 = \"The data is not normal distributed\"\n",
    "H1 = \"H0 (no normal distribution) does not apply.\"\n",
    "\n",
    "k = data.count(1) + data.count(2)\n",
    "p = (scipy.special.comb(2, 1, exact=True) * pow(0.5, 1) * pow(0.5, 2-1)) + \\\n",
    "    (scipy.special.comb(2, 2, exact=True) * pow(0.5, 2) * pow(0.5, 2-2))\n",
    "\n",
    "# Perform the Binomial Test\n",
    "p_value = binomtest(k, n, p).pvalue\n",
    "\n",
    "# Set the significance level\n",
    "significance_level = 0.05\n",
    "print('p = %.8f' % p_value)\n",
    "\n",
    "# Compare the p-value with the significance level\n",
    "if p_value < significance_level:\n",
    "    print('H0 (' + H0 + ') has been rejected in favour of H1 (' + H1 + ').') \n",
    "else:\n",
    "    print('H0 (' + H0 + ') has not been rejected.')"
   ]
  }
 ],
 "metadata": {
  "kernelspec": {
   "display_name": "Python 3 (ipykernel)",
   "language": "python",
   "name": "python3"
  },
  "language_info": {
   "codemirror_mode": {
    "name": "ipython",
    "version": 3
   },
   "file_extension": ".py",
   "mimetype": "text/x-python",
   "name": "python",
   "nbconvert_exporter": "python",
   "pygments_lexer": "ipython3",
   "version": "3.11.3"
  }
 },
 "nbformat": 4,
 "nbformat_minor": 4
}
