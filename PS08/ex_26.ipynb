{
 "cells": [
  {
   "attachments": {},
   "cell_type": "markdown",
   "metadata": {},
   "source": [
    "# Exercise Sheet 8 "
   ]
  },
  {
   "attachments": {},
   "cell_type": "markdown",
   "metadata": {},
   "source": [
    "## Exercise 26\n",
    "\n",
    "A microchip manufacturer gets the actual data for the daily demand of the last year\n",
    "concerning their flagship model (data AnnualDemand.txt). Analyse if the demand\n",
    "did change concerning the average of 1140 items of the last years.\n",
    "Use the appropriate statistical tests with a level of significance of 1% and justify your\n",
    "choice."
   ]
  },
  {
   "cell_type": "code",
   "execution_count": null,
   "metadata": {},
   "outputs": [],
   "source": [
    "import pandas as pd\n",
    "from scipy.stats import ttest_1samp"
   ]
  },
  {
   "cell_type": "code",
   "execution_count": null,
   "metadata": {},
   "outputs": [],
   "source": [
    "df = pd.read_csv(\"data/data_AnnualDemand.txt\", header=None, names=['demand'])\n",
    "df.describe()"
   ]
  },
  {
   "cell_type": "code",
   "execution_count": null,
   "metadata": {},
   "outputs": [],
   "source": [
    "# we have a 1 group parametric --> t-test\n",
    "\n",
    "# Calculate the sample mean\n",
    "sample_mean = df['demand'].mean()\n",
    "\n",
    "# Set the null hypothesis mean to 1140\n",
    "null_hypothesis_mean = 1140\n",
    "\n",
    "# Perform the one-sample t-test\n",
    "t_statistic, p_value = ttest_1samp(df['demand'], null_hypothesis_mean)\n",
    "\n",
    "# Set the significance level\n",
    "significance_level = 0.01\n",
    "print('p = ', p_value)\n",
    "# Compare the p-value with the significance level\n",
    "if p_value < significance_level:\n",
    "    print(\"Reject the null hypothesis\")\n",
    "    print(\"The demand has changed concerning the average of 1140 items.\")\n",
    "else:\n",
    "    print(\"Fail to reject the null hypothesis\")\n",
    "    print(\"The demand has not changed concerning the average of 1140 items.\")\n"
   ]
  }
 ],
 "metadata": {
  "kernelspec": {
   "display_name": "Python 3",
   "language": "python",
   "name": "python3"
  },
  "language_info": {
   "codemirror_mode": {
    "name": "ipython",
    "version": 3
   },
   "file_extension": ".py",
   "mimetype": "text/x-python",
   "name": "python",
   "nbconvert_exporter": "python",
   "pygments_lexer": "ipython3",
   "version": "3.8.10"
  },
  "orig_nbformat": 4
 },
 "nbformat": 4,
 "nbformat_minor": 2
}
