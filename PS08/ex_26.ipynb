{
 "cells": [
  {
   "attachments": {},
   "cell_type": "markdown",
   "metadata": {},
   "source": [
    "# Exercise Sheet 8 "
   ]
  },
  {
   "attachments": {},
   "cell_type": "markdown",
   "metadata": {},
   "source": [
    "## Exercise 26\n",
    "\n",
    "A microchip manufacturer gets the actual data for the daily demand of the last year\n",
    "concerning their flagship model (data AnnualDemand.txt). Analyse if the demand\n",
    "did change concerning the average of 1140 items of the last years.\n",
    "Use the appropriate statistical tests with a level of significance of 1% and justify your\n",
    "choice."
   ]
  },
  {
   "cell_type": "code",
   "execution_count": 1,
   "metadata": {},
   "outputs": [],
   "source": [
    "import pandas as pd\n",
    "from scipy.stats import ttest_1samp, shapiro, wilcoxon"
   ]
  },
  {
   "cell_type": "code",
   "execution_count": 2,
   "metadata": {},
   "outputs": [
    {
     "data": {
      "text/html": [
       "<div>\n",
       "<style scoped>\n",
       "    .dataframe tbody tr th:only-of-type {\n",
       "        vertical-align: middle;\n",
       "    }\n",
       "\n",
       "    .dataframe tbody tr th {\n",
       "        vertical-align: top;\n",
       "    }\n",
       "\n",
       "    .dataframe thead th {\n",
       "        text-align: right;\n",
       "    }\n",
       "</style>\n",
       "<table border=\"1\" class=\"dataframe\">\n",
       "  <thead>\n",
       "    <tr style=\"text-align: right;\">\n",
       "      <th></th>\n",
       "      <th>demand</th>\n",
       "    </tr>\n",
       "  </thead>\n",
       "  <tbody>\n",
       "    <tr>\n",
       "      <th>count</th>\n",
       "      <td>365.000000</td>\n",
       "    </tr>\n",
       "    <tr>\n",
       "      <th>mean</th>\n",
       "      <td>1140.131366</td>\n",
       "    </tr>\n",
       "    <tr>\n",
       "      <th>std</th>\n",
       "      <td>0.784557</td>\n",
       "    </tr>\n",
       "    <tr>\n",
       "      <th>min</th>\n",
       "      <td>1139.006298</td>\n",
       "    </tr>\n",
       "    <tr>\n",
       "      <th>25%</th>\n",
       "      <td>1139.533668</td>\n",
       "    </tr>\n",
       "    <tr>\n",
       "      <th>50%</th>\n",
       "      <td>1140.015586</td>\n",
       "    </tr>\n",
       "    <tr>\n",
       "      <th>75%</th>\n",
       "      <td>1140.524184</td>\n",
       "    </tr>\n",
       "    <tr>\n",
       "      <th>max</th>\n",
       "      <td>1143.395563</td>\n",
       "    </tr>\n",
       "  </tbody>\n",
       "</table>\n",
       "</div>"
      ],
      "text/plain": [
       "            demand\n",
       "count   365.000000\n",
       "mean   1140.131366\n",
       "std       0.784557\n",
       "min    1139.006298\n",
       "25%    1139.533668\n",
       "50%    1140.015586\n",
       "75%    1140.524184\n",
       "max    1143.395563"
      ]
     },
     "execution_count": 2,
     "metadata": {},
     "output_type": "execute_result"
    }
   ],
   "source": [
    "df = pd.read_csv(\"data/data_AnnualDemand.txt\", header=None, names=['demand'])\n",
    "df.describe()"
   ]
  },
  {
   "cell_type": "markdown",
   "metadata": {},
   "source": [
    "There is one group to analyse:\n",
    "* Normal distribution: T-Test\n",
    "* No normal distribution: Wilcoxon Signrank Test"
   ]
  },
  {
   "cell_type": "code",
   "execution_count": 3,
   "metadata": {},
   "outputs": [],
   "source": [
    "H0 = \"The demand did not change concerning the average of 1140 items of the last years.\"\n",
    "H1 = \"H0 (The demand did not change) does not apply.\""
   ]
  },
  {
   "cell_type": "code",
   "execution_count": 4,
   "metadata": {},
   "outputs": [
    {
     "name": "stdout",
     "output_type": "stream",
     "text": [
      "Data is assumed to be non-normal distributed (1.5146668912602995e-13>0.05)\n"
     ]
    }
   ],
   "source": [
    "# Perform the Shapiro-Wilk test for normality.\n",
    "u, p = shapiro(df['demand'])\n",
    "\n",
    "# Set the null hypothesis mean to 1140\n",
    "null_hypothesis_mean = 1140\n",
    "\n",
    "# interpret\n",
    "alpha = 0.05\n",
    "if p > alpha:\n",
    "    # Parametric: T-Test\n",
    "    print('Data is assumed to be normal distributed (' + str(p) + '>' + str(alpha) + ')')\n",
    "    t_statistic, p_value = ttest_1samp(df['demand'], null_hypothesis_mean)\n",
    "else:\n",
    "    # Non-Parametric: Wilcoxon Signrank\n",
    "    print('Data is assumed to be non-normal distributed (' + str(p) + '>' + str(alpha) + ')')\n",
    "    p_value = wilcoxon(df['demand'] - null_hypothesis_mean).pvalue"
   ]
  },
  {
   "cell_type": "code",
   "execution_count": 5,
   "metadata": {},
   "outputs": [
    {
     "name": "stdout",
     "output_type": "stream",
     "text": [
      "p =  0.20751199596387238\n",
      "H0 (The demand did not change concerning the average of 1140 items of the last years.) has not been rejected.\n"
     ]
    }
   ],
   "source": [
    "# Set the significance level\n",
    "significance_level = 0.01\n",
    "print('p = ', p_value)\n",
    "\n",
    "# Compare the p-value with the significance level\n",
    "if p_value < significance_level:\n",
    "    print('H0 (' + H0 + ') has been rejected in favour of H1 (' + H1 + ').') \n",
    "else:\n",
    "    print('H0 (' + H0 + ') has not been rejected.')"
   ]
  },
  {
   "cell_type": "code",
   "execution_count": null,
   "metadata": {},
   "outputs": [],
   "source": []
  }
 ],
 "metadata": {
  "kernelspec": {
   "display_name": "Python 3 (ipykernel)",
   "language": "python",
   "name": "python3"
  },
  "language_info": {
   "codemirror_mode": {
    "name": "ipython",
    "version": 3
   },
   "file_extension": ".py",
   "mimetype": "text/x-python",
   "name": "python",
   "nbconvert_exporter": "python",
   "pygments_lexer": "ipython3",
   "version": "3.11.3"
  }
 },
 "nbformat": 4,
 "nbformat_minor": 4
}
