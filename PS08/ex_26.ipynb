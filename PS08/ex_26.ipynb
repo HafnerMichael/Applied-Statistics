{
 "cells": [
  {
   "attachments": {},
   "cell_type": "markdown",
   "metadata": {},
   "source": [
    "# Exercise Sheet 8 "
   ]
  },
  {
   "attachments": {},
   "cell_type": "markdown",
   "metadata": {},
   "source": [
    "## Exercise 26\n",
    "\n",
    "A microchip manufacturer gets the actual data for the daily demand of the last year\n",
    "concerning their flagship model (data AnnualDemand.txt). Analyse if the demand\n",
    "did change concerning the average of 1140 items of the last years.\n",
    "Use the appropriate statistical tests with a level of significance of 1% and justify your\n",
    "choice."
   ]
  },
  {
   "cell_type": "code",
   "execution_count": 6,
   "metadata": {},
   "outputs": [],
   "source": [
    "import pandas as pd\n",
    "from scipy.stats import ttest_1samp"
   ]
  },
  {
   "cell_type": "code",
   "execution_count": 8,
   "metadata": {},
   "outputs": [
    {
     "data": {
      "text/html": [
       "<div>\n",
       "<style scoped>\n",
       "    .dataframe tbody tr th:only-of-type {\n",
       "        vertical-align: middle;\n",
       "    }\n",
       "\n",
       "    .dataframe tbody tr th {\n",
       "        vertical-align: top;\n",
       "    }\n",
       "\n",
       "    .dataframe thead th {\n",
       "        text-align: right;\n",
       "    }\n",
       "</style>\n",
       "<table border=\"1\" class=\"dataframe\">\n",
       "  <thead>\n",
       "    <tr style=\"text-align: right;\">\n",
       "      <th></th>\n",
       "      <th>demand</th>\n",
       "    </tr>\n",
       "  </thead>\n",
       "  <tbody>\n",
       "    <tr>\n",
       "      <th>count</th>\n",
       "      <td>365.000000</td>\n",
       "    </tr>\n",
       "    <tr>\n",
       "      <th>mean</th>\n",
       "      <td>1140.131366</td>\n",
       "    </tr>\n",
       "    <tr>\n",
       "      <th>std</th>\n",
       "      <td>0.784557</td>\n",
       "    </tr>\n",
       "    <tr>\n",
       "      <th>min</th>\n",
       "      <td>1139.006298</td>\n",
       "    </tr>\n",
       "    <tr>\n",
       "      <th>25%</th>\n",
       "      <td>1139.533668</td>\n",
       "    </tr>\n",
       "    <tr>\n",
       "      <th>50%</th>\n",
       "      <td>1140.015586</td>\n",
       "    </tr>\n",
       "    <tr>\n",
       "      <th>75%</th>\n",
       "      <td>1140.524184</td>\n",
       "    </tr>\n",
       "    <tr>\n",
       "      <th>max</th>\n",
       "      <td>1143.395563</td>\n",
       "    </tr>\n",
       "  </tbody>\n",
       "</table>\n",
       "</div>"
      ],
      "text/plain": [
       "            demand\n",
       "count   365.000000\n",
       "mean   1140.131366\n",
       "std       0.784557\n",
       "min    1139.006298\n",
       "25%    1139.533668\n",
       "50%    1140.015586\n",
       "75%    1140.524184\n",
       "max    1143.395563"
      ]
     },
     "execution_count": 8,
     "metadata": {},
     "output_type": "execute_result"
    }
   ],
   "source": [
    "df = pd.read_csv(\"data/data_AnnualDemand.txt\", header=None, names=['demand'])\n",
    "df.describe()"
   ]
  },
  {
   "cell_type": "code",
   "execution_count": 12,
   "metadata": {},
   "outputs": [
    {
     "name": "stdout",
     "output_type": "stream",
     "text": [
      "p =  0.0015003920798439838\n",
      "Reject the null hypothesis\n",
      "The demand has changed concerning the average of 1140 items.\n"
     ]
    }
   ],
   "source": [
    "# we have a 1 group parametric --> t-test\n",
    "\n",
    "# Calculate the sample mean\n",
    "sample_mean = df['demand'].mean()\n",
    "\n",
    "# Set the null hypothesis mean to 1140\n",
    "null_hypothesis_mean = 1140\n",
    "\n",
    "# Perform the one-sample t-test\n",
    "t_statistic, p_value = ttest_1samp(df['demand'], null_hypothesis_mean)\n",
    "\n",
    "# Set the significance level\n",
    "significance_level = 0.01\n",
    "print('p = ', p_value)\n",
    "# Compare the p-value with the significance level\n",
    "if p_value < significance_level:\n",
    "    print(\"Reject the null hypothesis\")\n",
    "    print(\"The demand has changed concerning the average of 1140 items.\")\n",
    "else:\n",
    "    print(\"Fail to reject the null hypothesis\")\n",
    "    print(\"The demand has not changed concerning the average of 1140 items.\")\n"
   ]
  }
 ],
 "metadata": {
  "kernelspec": {
   "display_name": "Python 3",
   "language": "python",
   "name": "python3"
  },
  "language_info": {
   "codemirror_mode": {
    "name": "ipython",
    "version": 3
   },
   "file_extension": ".py",
   "mimetype": "text/x-python",
   "name": "python",
   "nbconvert_exporter": "python",
   "pygments_lexer": "ipython3",
   "version": "3.8.10"
  },
  "orig_nbformat": 4
 },
 "nbformat": 4,
 "nbformat_minor": 2
}
