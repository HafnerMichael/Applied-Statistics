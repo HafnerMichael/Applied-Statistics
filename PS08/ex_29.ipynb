{
 "cells": [
  {
   "attachments": {},
   "cell_type": "markdown",
   "metadata": {},
   "source": [
    "# Exercise Sheet 8 "
   ]
  },
  {
   "attachments": {},
   "cell_type": "markdown",
   "metadata": {},
   "source": [
    "## Exercise 29\n",
    "\n",
    "A fellow at CERN has measured Brown’s molecular movements and provides his data\n",
    "in data MolecularMovements.txt. You offer your support and verify if the measured\n",
    "movements\n",
    "\n",
    "a) follow a normal distribution\n",
    "\n",
    "b) follow the expected mean value of μ = 300 (own implementation + verification with a test provided by python package of your choice)\n",
    "\n",
    "Use the appropriate statistical tests with a level of significance of 5% and justify their\n",
    "choice."
   ]
  },
  {
   "cell_type": "code",
   "execution_count": 20,
   "metadata": {},
   "outputs": [],
   "source": [
    "import pandas as pd\n",
    "import numpy\n",
    "import math\n",
    "import scipy.stats as stats\n",
    "from scipy.stats import ttest_1samp, shapiro, wilcoxon"
   ]
  },
  {
   "cell_type": "code",
   "execution_count": 2,
   "metadata": {},
   "outputs": [
    {
     "data": {
      "text/html": [
       "<div>\n",
       "<style scoped>\n",
       "    .dataframe tbody tr th:only-of-type {\n",
       "        vertical-align: middle;\n",
       "    }\n",
       "\n",
       "    .dataframe tbody tr th {\n",
       "        vertical-align: top;\n",
       "    }\n",
       "\n",
       "    .dataframe thead th {\n",
       "        text-align: right;\n",
       "    }\n",
       "</style>\n",
       "<table border=\"1\" class=\"dataframe\">\n",
       "  <thead>\n",
       "    <tr style=\"text-align: right;\">\n",
       "      <th></th>\n",
       "      <th>demand</th>\n",
       "    </tr>\n",
       "  </thead>\n",
       "  <tbody>\n",
       "    <tr>\n",
       "      <th>count</th>\n",
       "      <td>5000.000000</td>\n",
       "    </tr>\n",
       "    <tr>\n",
       "      <th>mean</th>\n",
       "      <td>299.067368</td>\n",
       "    </tr>\n",
       "    <tr>\n",
       "      <th>std</th>\n",
       "      <td>19.481917</td>\n",
       "    </tr>\n",
       "    <tr>\n",
       "      <th>min</th>\n",
       "      <td>231.829388</td>\n",
       "    </tr>\n",
       "    <tr>\n",
       "      <th>25%</th>\n",
       "      <td>285.985457</td>\n",
       "    </tr>\n",
       "    <tr>\n",
       "      <th>50%</th>\n",
       "      <td>299.091728</td>\n",
       "    </tr>\n",
       "    <tr>\n",
       "      <th>75%</th>\n",
       "      <td>312.512779</td>\n",
       "    </tr>\n",
       "    <tr>\n",
       "      <th>max</th>\n",
       "      <td>365.915528</td>\n",
       "    </tr>\n",
       "  </tbody>\n",
       "</table>\n",
       "</div>"
      ],
      "text/plain": [
       "            demand\n",
       "count  5000.000000\n",
       "mean    299.067368\n",
       "std      19.481917\n",
       "min     231.829388\n",
       "25%     285.985457\n",
       "50%     299.091728\n",
       "75%     312.512779\n",
       "max     365.915528"
      ]
     },
     "execution_count": 2,
     "metadata": {},
     "output_type": "execute_result"
    }
   ],
   "source": [
    "df = pd.read_csv(\"data/data_MolecularMovements.txt\", header=None, names=['demand'])\n",
    "df.describe()"
   ]
  },
  {
   "cell_type": "markdown",
   "metadata": {},
   "source": [
    "There is one group to analyse:\n",
    "* Normal distribution: T-Test\n",
    "* No normal distribution: Wilcoxon Signrank Test"
   ]
  },
  {
   "cell_type": "code",
   "execution_count": 3,
   "metadata": {},
   "outputs": [],
   "source": [
    "H0 = \"The data does not follow the expected mean value of µ=300.\"\n",
    "H1 = \"H0 (The data does not follow the expected mean) does not apply.\""
   ]
  },
  {
   "cell_type": "code",
   "execution_count": 4,
   "metadata": {},
   "outputs": [
    {
     "name": "stdout",
     "output_type": "stream",
     "text": [
      "Data is assumed to be normal distributed (0.11684542149305344>0.05)\n"
     ]
    }
   ],
   "source": [
    "# Perform the Shapiro-Wilk test for normality.\n",
    "u, p = shapiro(df['demand'])\n",
    "\n",
    "# Set the null hypothesis mean to 300\n",
    "null_hypothesis_mean = 300\n",
    "\n",
    "# interpret\n",
    "alpha = 0.05\n",
    "if p > alpha:\n",
    "    # Parametric: T-Test\n",
    "    print('Data is assumed to be normal distributed (' + str(p) + '>' + str(alpha) + ')')\n",
    "    t_statistic, p_value = ttest_1samp(df['demand'], null_hypothesis_mean)\n",
    "else:\n",
    "    # Non-Parametric: Wilcoxon Signrank\n",
    "    print('Data is assumed to be non-normal distributed (' + str(p) + '>' + str(alpha) + ')')\n",
    "    p_value = wilcoxon(df['demand'] - null_hypothesis_mean).pvalue"
   ]
  },
  {
   "cell_type": "code",
   "execution_count": 5,
   "metadata": {},
   "outputs": [
    {
     "name": "stdout",
     "output_type": "stream",
     "text": [
      "p =  0.0007171667886274826\n",
      "H0 (The data does not follow the expected mean value of µ=300.) has been rejected in favour of H1 (H0 (The data does not follow the expected mean) does not apply.).\n"
     ]
    }
   ],
   "source": [
    "# Set the significance level\n",
    "significance_level = 0.05\n",
    "print('p = ', p_value)\n",
    "\n",
    "# Compare the p-value with the significance level\n",
    "if p_value < significance_level:\n",
    "    print('H0 (' + H0 + ') has been rejected in favour of H1 (' + H1 + ').') \n",
    "else:\n",
    "    print('H0 (' + H0 + ') has not been rejected.')"
   ]
  },
  {
   "cell_type": "code",
   "execution_count": 29,
   "metadata": {},
   "outputs": [
    {
     "name": "stdout",
     "output_type": "stream",
     "text": [
      "p =  0.0007171667886274826\n",
      "H0 (The data does not follow the expected mean value of µ=300.) has been rejected in favour of H1 (H0 (The data does not follow the expected mean) does not apply.).\n"
     ]
    }
   ],
   "source": [
    "# Perform manual T-Test\n",
    "n = len(df)\n",
    "sig = numpy.std(df,ddof=1)\n",
    "xmean = numpy.mean(df)\n",
    "t_stat = math.sqrt(n) * ((xmean - null_hypothesis_mean) / sig)\n",
    "\n",
    "p = (2 - 2 * stats.t.cdf(numpy.abs(t_stat),n-1))\n",
    "\n",
    "# Set the significance level\n",
    "significance_level = 0.05\n",
    "print('p = ', p_value)\n",
    "\n",
    "# Compare the p-value with the significance level\n",
    "if p_value < significance_level:\n",
    "    print('H0 (' + H0 + ') has been rejected in favour of H1 (' + H1 + ').') \n",
    "else:\n",
    "    print('H0 (' + H0 + ') has not been rejected.')"
   ]
  }
 ],
 "metadata": {
  "kernelspec": {
   "display_name": "Python 3 (ipykernel)",
   "language": "python",
   "name": "python3"
  },
  "language_info": {
   "codemirror_mode": {
    "name": "ipython",
    "version": 3
   },
   "file_extension": ".py",
   "mimetype": "text/x-python",
   "name": "python",
   "nbconvert_exporter": "python",
   "pygments_lexer": "ipython3",
   "version": "3.11.3"
  }
 },
 "nbformat": 4,
 "nbformat_minor": 4
}
