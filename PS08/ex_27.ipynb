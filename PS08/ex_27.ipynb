{
 "cells": [
  {
   "attachments": {},
   "cell_type": "markdown",
   "metadata": {},
   "source": [
    "# Exercise Sheet 8 "
   ]
  },
  {
   "attachments": {},
   "cell_type": "markdown",
   "metadata": {},
   "source": [
    "## Exercise 27\n",
    "\n",
    "A study has been conducted at the institute for elderly research in order to investigate\n",
    "the efficiency of a new drug for neuro enhancement. The achieved scores of the participants (n = 100) for a memory test before and after multi-week administration of\n",
    "the drug are included in the file data NeuroEnhancement.txt (column 1: person ID,\n",
    "column 2: before, column 3: after). Did the drug have a performance-enhancing effect\n",
    "on the memory of elderly people? Justify the choice of the appropriate statistical test,\n",
    "analyze the data at a level of significance of α = 0.01 and interpret the result."
   ]
  },
  {
   "cell_type": "code",
   "execution_count": null,
   "metadata": {},
   "outputs": [],
   "source": [
    "import pandas as pd\n",
    "from scipy.stats import ttest_rel"
   ]
  },
  {
   "cell_type": "code",
   "execution_count": null,
   "metadata": {},
   "outputs": [],
   "source": [
    "df = pd.read_csv(\"data/data_NeuroEnhancement.txt\", sep= \"\\t\", header=None, names=['personID', 'before', 'after'])\n",
    "df.describe()"
   ]
  },
  {
   "cell_type": "code",
   "execution_count": null,
   "metadata": {},
   "outputs": [],
   "source": [
    "# data has a range of values. Tests examine the average value --> Quantitative\n",
    "# 2 groups\n",
    "# paird observations (before and after) for the same group of individuals --> paired t-test\n",
    "\n",
    "# Perform the one-sample t-test\n",
    "t_statistic, p_value = ttest_rel(df['before'], df['after'])\n",
    "\n",
    "# Set the significance level\n",
    "significance_level = 0.01\n",
    "\n",
    "print('p = ', p_value)\n",
    "\n",
    "# Compare the p-value with the significance level\n",
    "if p_value < significance_level:\n",
    "    print(\"Reject the null hypothesis\")\n",
    "    print(\"The drug has a performance-enhancing effect on the memory of elderly people.\")\n",
    "else:\n",
    "    print(\"Fail to reject the null hypothesis\")\n",
    "    print(\"The drug does not have a performance-enhancing effect on the memory of elderly people.\")"
   ]
  }
 ],
 "metadata": {
  "kernelspec": {
   "display_name": "Python 3",
   "language": "python",
   "name": "python3"
  },
  "language_info": {
   "codemirror_mode": {
    "name": "ipython",
    "version": 3
   },
   "file_extension": ".py",
   "mimetype": "text/x-python",
   "name": "python",
   "nbconvert_exporter": "python",
   "pygments_lexer": "ipython3",
   "version": "3.8.10"
  },
  "orig_nbformat": 4
 },
 "nbformat": 4,
 "nbformat_minor": 2
}
