{
 "cells": [
  {
   "attachments": {},
   "cell_type": "markdown",
   "metadata": {},
   "source": [
    "# Exercise Sheet 8 "
   ]
  },
  {
   "attachments": {},
   "cell_type": "markdown",
   "metadata": {},
   "source": [
    "## Exercise 27\n",
    "\n",
    "A study has been conducted at the institute for elderly research in order to investigate\n",
    "the efficiency of a new drug for neuro enhancement. The achieved scores of the participants (n = 100) for a memory test before and after multi-week administration of\n",
    "the drug are included in the file data NeuroEnhancement.txt (column 1: person ID,\n",
    "column 2: before, column 3: after). Did the drug have a performance-enhancing effect\n",
    "on the memory of elderly people? Justify the choice of the appropriate statistical test,\n",
    "analyze the data at a level of significance of α = 0.01 and interpret the result."
   ]
  },
  {
   "cell_type": "code",
   "execution_count": 1,
   "metadata": {},
   "outputs": [],
   "source": [
    "import pandas as pd\n",
    "from scipy.stats import ttest_rel, shapiro, wilcoxon"
   ]
  },
  {
   "cell_type": "code",
   "execution_count": 2,
   "metadata": {},
   "outputs": [
    {
     "data": {
      "text/html": [
       "<div>\n",
       "<style scoped>\n",
       "    .dataframe tbody tr th:only-of-type {\n",
       "        vertical-align: middle;\n",
       "    }\n",
       "\n",
       "    .dataframe tbody tr th {\n",
       "        vertical-align: top;\n",
       "    }\n",
       "\n",
       "    .dataframe thead th {\n",
       "        text-align: right;\n",
       "    }\n",
       "</style>\n",
       "<table border=\"1\" class=\"dataframe\">\n",
       "  <thead>\n",
       "    <tr style=\"text-align: right;\">\n",
       "      <th></th>\n",
       "      <th>personID</th>\n",
       "      <th>before</th>\n",
       "      <th>after</th>\n",
       "    </tr>\n",
       "  </thead>\n",
       "  <tbody>\n",
       "    <tr>\n",
       "      <th>count</th>\n",
       "      <td>100.000000</td>\n",
       "      <td>100.000000</td>\n",
       "      <td>100.000000</td>\n",
       "    </tr>\n",
       "    <tr>\n",
       "      <th>mean</th>\n",
       "      <td>50.500000</td>\n",
       "      <td>125.150863</td>\n",
       "      <td>123.437753</td>\n",
       "    </tr>\n",
       "    <tr>\n",
       "      <th>std</th>\n",
       "      <td>29.011492</td>\n",
       "      <td>1.852985</td>\n",
       "      <td>4.723171</td>\n",
       "    </tr>\n",
       "    <tr>\n",
       "      <th>min</th>\n",
       "      <td>1.000000</td>\n",
       "      <td>119.546269</td>\n",
       "      <td>111.933510</td>\n",
       "    </tr>\n",
       "    <tr>\n",
       "      <th>25%</th>\n",
       "      <td>25.750000</td>\n",
       "      <td>123.828790</td>\n",
       "      <td>120.887601</td>\n",
       "    </tr>\n",
       "    <tr>\n",
       "      <th>50%</th>\n",
       "      <td>50.500000</td>\n",
       "      <td>125.136645</td>\n",
       "      <td>123.930322</td>\n",
       "    </tr>\n",
       "    <tr>\n",
       "      <th>75%</th>\n",
       "      <td>75.250000</td>\n",
       "      <td>126.444265</td>\n",
       "      <td>126.848406</td>\n",
       "    </tr>\n",
       "    <tr>\n",
       "      <th>max</th>\n",
       "      <td>100.000000</td>\n",
       "      <td>130.444700</td>\n",
       "      <td>134.040823</td>\n",
       "    </tr>\n",
       "  </tbody>\n",
       "</table>\n",
       "</div>"
      ],
      "text/plain": [
       "         personID      before       after\n",
       "count  100.000000  100.000000  100.000000\n",
       "mean    50.500000  125.150863  123.437753\n",
       "std     29.011492    1.852985    4.723171\n",
       "min      1.000000  119.546269  111.933510\n",
       "25%     25.750000  123.828790  120.887601\n",
       "50%     50.500000  125.136645  123.930322\n",
       "75%     75.250000  126.444265  126.848406\n",
       "max    100.000000  130.444700  134.040823"
      ]
     },
     "execution_count": 2,
     "metadata": {},
     "output_type": "execute_result"
    }
   ],
   "source": [
    "df = pd.read_csv(\"data/data_NeuroEnhancement.txt\", sep= \"\\t\", header=None, names=['personID', 'before', 'after'])\n",
    "df.describe()"
   ]
  },
  {
   "cell_type": "markdown",
   "metadata": {},
   "source": [
    "* Data has a range of values. Tests examine the average value --> Quantitative test\n",
    "* Paired observations (before and after) for the same group of individuals --> paired T-test (2 Groups)"
   ]
  },
  {
   "cell_type": "code",
   "execution_count": 3,
   "metadata": {},
   "outputs": [],
   "source": [
    "H0 = \"The drug has no performance-enhancing effect on the memory of elderly people.\"\n",
    "H1 = \"H0 (The drug has no effect) does not apply.\""
   ]
  },
  {
   "cell_type": "code",
   "execution_count": 4,
   "metadata": {
    "collapsed": false,
    "jupyter": {
     "outputs_hidden": false
    }
   },
   "outputs": [
    {
     "name": "stdout",
     "output_type": "stream",
     "text": [
      "Data is assumed to be normal distributed\n"
     ]
    }
   ],
   "source": [
    "# Perform the Shapiro-Wilk test for normality.\n",
    "u_b, p_b = shapiro(df['before'])\n",
    "u_a, p_a = shapiro(df['after'])\n",
    "\n",
    "# interpret\n",
    "alpha = 0.05\n",
    "if p_b > alpha and p_a > alpha:\n",
    "    # Parametric: T-Test (paired)\n",
    "    print('Data is assumed to be normal distributed')\n",
    "    t_statistic, p_value = ttest_rel(df['before'], df['after'])\n",
    "else:\n",
    "    # Non-Parametric: Wilcoxon\n",
    "    print('Data is assumed to be non-normal distributed')\n",
    "    p_value = wilcoxon(df['before'], df['after']).pvalue"
   ]
  },
  {
   "cell_type": "code",
   "execution_count": 5,
   "metadata": {
    "collapsed": false,
    "jupyter": {
     "outputs_hidden": false
    }
   },
   "outputs": [
    {
     "name": "stdout",
     "output_type": "stream",
     "text": [
      "p =  0.0012013988993447152\n",
      "H0 (The drug has no performance-enhancing effect on the memory of elderly people.) has been rejected in favour of H1 (H0 (The drug has no effect) does not apply.).\n"
     ]
    }
   ],
   "source": [
    "# Set the significance level\n",
    "significance_level = 0.01\n",
    "print('p = ', p_value)\n",
    "\n",
    "# Compare the p-value with the significance level\n",
    "if p_value < significance_level:\n",
    "    print('H0 (' + H0 + ') has been rejected in favour of H1 (' + H1 + ').') \n",
    "else:\n",
    "    print('H0 (' + H0 + ') has not been rejected.')"
   ]
  },
  {
   "cell_type": "code",
   "execution_count": null,
   "metadata": {
    "collapsed": false,
    "jupyter": {
     "outputs_hidden": false
    }
   },
   "outputs": [],
   "source": []
  }
 ],
 "metadata": {
  "kernelspec": {
   "display_name": "Python 3 (ipykernel)",
   "language": "python",
   "name": "python3"
  },
  "language_info": {
   "codemirror_mode": {
    "name": "ipython",
    "version": 3
   },
   "file_extension": ".py",
   "mimetype": "text/x-python",
   "name": "python",
   "nbconvert_exporter": "python",
   "pygments_lexer": "ipython3",
   "version": "3.11.3"
  }
 },
 "nbformat": 4,
 "nbformat_minor": 4
}
