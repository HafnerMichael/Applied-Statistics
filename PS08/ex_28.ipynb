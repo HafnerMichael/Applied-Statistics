{
 "cells": [
  {
   "attachments": {},
   "cell_type": "markdown",
   "metadata": {},
   "source": [
    "# Exercise Sheet 8 "
   ]
  },
  {
   "attachments": {},
   "cell_type": "markdown",
   "metadata": {},
   "source": [
    "## Exercise 27\n",
    "\n",
    "Along the A10 highway at Groedig as well as in Golling a device measures the daily\n",
    "pollution with fine particles. Analyse if the pollution with fine particles at both loca-\n",
    "tions during the year was equal or significantly different (data FineParticles.txt,\n",
    "column 1: Groedig, column 2: Golling). Justify the choice of the appropriate statistical\n",
    "test and interpret the results (α = [0, 05; 0, 01])."
   ]
  },
  {
   "cell_type": "code",
   "execution_count": null,
   "metadata": {},
   "outputs": [],
   "source": [
    "import pandas as pd\n",
    "from scipy.stats import ttest_ind"
   ]
  },
  {
   "cell_type": "code",
   "execution_count": null,
   "metadata": {},
   "outputs": [],
   "source": [
    "df = pd.read_csv(\"data/data_FineParticles.txt\", sep= \"\\t\", header=None, names=['Groedig', 'Golling'])\n",
    "df.describe()"
   ]
  },
  {
   "cell_type": "code",
   "execution_count": null,
   "metadata": {},
   "outputs": [],
   "source": [
    "# I compare the two columns and analyse if equal of significantly different --> Qualitative \n",
    "# 2 independent groups --> 2 unpaired groups \n",
    "# unpaired --> Z-Test\n",
    "# z-test is for large n and known standard deviations --> t-test is the better choice.\n",
    "\n",
    "# Perform the one-sample t-test\n",
    "t_statistic, p_value = ttest_ind(df['Groedig'], df['Golling'])\n",
    "\n",
    "# Set the significance level\n",
    "significance_level = 0.05\n",
    "\n",
    "print('p = ', p_value, \" | a = \", significance_level)\n",
    "\n",
    "# Compare the p-value with the significance level\n",
    "if p_value < significance_level:\n",
    "    print(\"Reject the null hypothesis\")\n",
    "    print(\"The pollution with fine particles at Groedig and Golling is significantly different.\")\n",
    "else:\n",
    "    print(\"Fail to reject the null hypothesis\")\n",
    "    print(\"The pollution with fine particles at Groedig and Golling is not significantly different.\")\n",
    "\n",
    "# Set the significance level\n",
    "significance_level = 0.01\n",
    "\n",
    "print('p = ', p_value, \" | a = \", significance_level)\n",
    "\n",
    "# Compare the p-value with the significance level\n",
    "if p_value < significance_level:\n",
    "    print(\"Reject the null hypothesis\")\n",
    "    print(\"The pollution with fine particles at Groedig and Golling is significantly different.\")\n",
    "else:\n",
    "    print(\"Fail to reject the null hypothesis\")\n",
    "    print(\"The pollution with fine particles at Groedig and Golling is not significantly different.\")"
   ]
  }
 ],
 "metadata": {
  "kernelspec": {
   "display_name": "Python 3",
   "language": "python",
   "name": "python3"
  },
  "language_info": {
   "codemirror_mode": {
    "name": "ipython",
    "version": 3
   },
   "file_extension": ".py",
   "mimetype": "text/x-python",
   "name": "python",
   "nbconvert_exporter": "python",
   "pygments_lexer": "ipython3",
   "version": "3.8.10"
  },
  "orig_nbformat": 4
 },
 "nbformat": 4,
 "nbformat_minor": 2
}
