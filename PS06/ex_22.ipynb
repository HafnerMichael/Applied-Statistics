{
 "cells": [
  {
   "cell_type": "markdown",
   "id": "90909a6a-df80-4944-a301-d7bec990533f",
   "metadata": {},
   "source": [
    "# Exercise Sheet 6 "
   ]
  },
  {
   "cell_type": "markdown",
   "id": "dc28be0f-988b-48ff-a930-c9b8982127ef",
   "metadata": {},
   "source": [
    "## Exercise 22\n",
    "\n",
    "A company fills bottles with a nominal value of 1000ml and an actual filling quantity\n",
    "being a normal distributed random variable with a standard deviation of 3ml. A\n",
    "sample of N = 50 resulted in a sample mean of x̄ = 999ml. Compute the confidence\n",
    "interval with 95% confidence for the true mean of the filling plant. Can one conclude\n",
    "from the result that the plant is filling the bottles on average insufficiently?\n",
    "For this CI, you need to decide, which of the two CIs for expectations you will employ."
   ]
  },
  {
   "cell_type": "code",
   "execution_count": null,
   "id": "ab431ec6-99af-425a-adb4-a6b8a0f154c3",
   "metadata": {},
   "outputs": [],
   "source": [
    "import matplotlib.pyplot as plt\n",
    "import numpy as np\n",
    "from scipy.stats import norm\n",
    "\n",
    "# Sample size\n",
    "n = 50\n",
    "\n",
    "# Standard deviation\n",
    "s = 3\n",
    "\n",
    "# inv phi\n",
    "k = norm.ppf(1-(0.05/2))\n",
    "\n",
    "# Sample mean\n",
    "p_hat = 999\n",
    "\n",
    "ci_lower = p_hat - (k/(2*np.sqrt(n)))\n",
    "ci_upper = p_hat + (k/(2*np.sqrt(n)))\n",
    "\n",
    "print('Lower ci boundry: {:.2f}'.format(ci_lower))\n",
    "print('Upper ci boundry: {:.2f}'.format(ci_upper))"
   ]
  },
  {
   "cell_type": "raw",
   "id": "f3334d6f-affc-47e1-9873-2f91bc10674c",
   "metadata": {},
   "source": [
    "Overall, the company does not fill the bottles insufficiently on a large scale. Firstly, with a CI of 95% the bottles are filled to at least 998.9ml. Secondly, the standard deviation of 3ml allows quite large errors. Furthermore, the company fills bottles with a /nominal/ value of 1000ml. Since the filling machine and also the measuring equipment will introduce some error as well, this problem becomes even harder to judge. Therefore, it depends on the regulations whether this deviation is acceptable. Since the company surely wants to make money and therefore fill the bottles with as little quantity as possible one can understand this decision)))."
   ]
  }
 ],
 "metadata": {
  "kernelspec": {
   "display_name": "Python 3 (ipykernel)",
   "language": "python",
   "name": "python3"
  },
  "language_info": {
   "codemirror_mode": {
    "name": "ipython",
    "version": 3
   },
   "file_extension": ".py",
   "mimetype": "text/x-python",
   "name": "python",
   "nbconvert_exporter": "python",
   "pygments_lexer": "ipython3",
   "version": "3.11.3"
  }
 },
 "nbformat": 4,
 "nbformat_minor": 5
}
