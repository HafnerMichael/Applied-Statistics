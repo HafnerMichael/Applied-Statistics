{
 "cells": [
  {
   "attachments": {},
   "cell_type": "markdown",
   "metadata": {},
   "source": [
    "# Exercise Sheet 6 "
   ]
  },
  {
   "attachments": {},
   "cell_type": "markdown",
   "metadata": {},
   "source": [
    "## Exercise 20\n",
    "\n",
    "The amount of vegetarians in a population is to be estimated with 90% confidence\n",
    "and 2% accuracy. What ist the necessary sample size? If you double the accuracy (i.e.\n",
    "a maximum deviation of 1%), how does this affect the necessary sample size?"
   ]
  },
  {
   "cell_type": "code",
   "execution_count": null,
   "metadata": {},
   "outputs": [],
   "source": [
    "import scipy.stats as stats\n",
    "import math"
   ]
  },
  {
   "cell_type": "code",
   "execution_count": null,
   "metadata": {},
   "outputs": [],
   "source": [
    "def calculate_sample_size(alpha, accuracy, estimated_proportion):\n",
    "    # Calculate value of dirstribution function\n",
    "    z = abs(stats.norm.ppf(1 - alpha / 2))\n",
    "\n",
    "    # Calculate the necessary sample size\n",
    "    # Accurays = l?\n",
    "    sample_size = (z ** 2 * estimated_proportion * (1 - estimated_proportion)) / accuracy ** 2\n",
    "\n",
    "    return math.ceil(sample_size)\n",
    "\n",
    "confidence_level = 0.9\n",
    "alpha = 1 -  confidence_level\n",
    "accuracy = 0.02\n",
    "estimated_proportion = 0.5\n",
    "\n",
    "sample_size = calculate_sample_size(alpha, accuracy, estimated_proportion)\n",
    "print(f\"Accuracy=2% --> The necessary sample size: {sample_size}\")\n",
    "\n",
    "accuracy = 0.01\n",
    "sample_size = calculate_sample_size(alpha, accuracy, estimated_proportion)\n",
    "print(f\"Accuracy=1% --> The necessary sample size is: {sample_size}\")"
   ]
  },
  {
   "attachments": {},
   "cell_type": "markdown",
   "metadata": {},
   "source": [
    "We see that by deviding the accuracy by 2 the necessary sample size rises by a factor of 4"
   ]
  }
 ],
 "metadata": {
  "kernelspec": {
   "display_name": "Python 3",
   "language": "python",
   "name": "python3"
  },
  "language_info": {
   "codemirror_mode": {
    "name": "ipython",
    "version": 3
   },
   "file_extension": ".py",
   "mimetype": "text/x-python",
   "name": "python",
   "nbconvert_exporter": "python",
   "pygments_lexer": "ipython3",
   "version": "3.8.10"
  },
  "orig_nbformat": 4
 },
 "nbformat": 4,
 "nbformat_minor": 2
}
