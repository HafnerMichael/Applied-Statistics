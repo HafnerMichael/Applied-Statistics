{
 "cells": [
  {
   "attachments": {},
   "cell_type": "markdown",
   "metadata": {},
   "source": [
    "# Exercise Sheet 6 "
   ]
  },
  {
   "attachments": {},
   "cell_type": "markdown",
   "metadata": {},
   "source": [
    "## Exercise 21\n",
    "\n",
    "The amount of vegetarians in a population is to be estimated with 90% confidence\n",
    "and 2% accuracy. What ist the necessary sample size? If you double the accuracy (i.e.\n",
    "a maximum deviation of 1%), how does this affect the necessary sample size?"
   ]
  },
  {
   "cell_type": "code",
   "execution_count": null,
   "metadata": {},
   "outputs": [],
   "source": [
    "import matplotlib.pyplot as plt\n",
    "import numpy as np\n",
    "from scipy.stats import norm\n",
    "\n",
    "# Sample size\n",
    "n = np.linspace(100, 10000, 1000)\n",
    "\n",
    "# See lecture theorem 3.2.2\n",
    "# alpha = 0.01, ppf calculates phi inv\n",
    "ci = norm.ppf(1-(0.1/2)) / (2 * np.sqrt(n))\n",
    "\n",
    "plt.plot(ci, n)\n",
    "plt.axvline(0.02, color='r')\n",
    "plt.axvline(0.01, color='b')\n",
    "plt.title(\"90% CI\")\n",
    "plt.xlabel(\"Deviation\")\n",
    "plt.ylabel(\"Sample Size\")\n",
    "plt.show()\n",
    "\n",
    "n_target = (norm.ppf(1-(0.1/2)) / (0.01 * 2)) ** 2\n",
    "print('Sample size for a deviation of 1%: {:.2f}'.format(n_target))\n",
    "\n",
    "n_target = (norm.ppf(1-(0.1/2)) / (0.02 * 2)) ** 2\n",
    "print('Sample size for a deviation of 2%: {:.2f}'.format(n_target))"
   ]
  },
  {
   "attachments": {},
   "cell_type": "markdown",
   "metadata": {},
   "source": [
    "We see that by increasing the accuracy by 2 the necessary sample size rises by a factor of 4"
   ]
  }
 ],
 "metadata": {
  "kernelspec": {
   "display_name": "Python 3 (ipykernel)",
   "language": "python",
   "name": "python3"
  },
  "language_info": {
   "codemirror_mode": {
    "name": "ipython",
    "version": 3
   },
   "file_extension": ".py",
   "mimetype": "text/x-python",
   "name": "python",
   "nbconvert_exporter": "python",
   "pygments_lexer": "ipython3",
   "version": "3.11.3"
  }
 },
 "nbformat": 4,
 "nbformat_minor": 4
}
