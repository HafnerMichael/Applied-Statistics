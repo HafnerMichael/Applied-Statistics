{
 "cells": [
  {
   "cell_type": "markdown",
   "metadata": {
    "collapsed": false
   },
   "source": [
    "# Exercise Sheet 4"
   ]
  },
  {
   "attachments": {},
   "cell_type": "markdown",
   "metadata": {
    "collapsed": false
   },
   "source": [
    "## Exercise 13\n",
    "\n",
    "Generate a random sample $X_i$ of size n ∈ {100, 1000, 10000} from Poisson $P_2$ distribution. These samples hold the model assumptions given in the lecture (all $X_i$ are identically distributed and independent)"
   ]
  },
  {
   "cell_type": "code",
   "execution_count": 1,
   "metadata": {
    "collapsed": false
   },
   "outputs": [],
   "source": [
    "import numpy as np\n",
    "\n",
    "np.random.seed(42)"
   ]
  },
  {
   "attachments": {},
   "cell_type": "markdown",
   "metadata": {
    "collapsed": false
   },
   "source": [
    "### a.) Compute the point estimator (see Script Chapter 3.3.1) for the parameter λ of a Poisson and compare the values with the theoretical one (2 in the above example)."
   ]
  },
  {
   "cell_type": "code",
   "execution_count": 2,
   "metadata": {
    "collapsed": false
   },
   "outputs": [
    {
     "name": "stdout",
     "output_type": "stream",
     "text": [
      "Lambda for n:100 = 2.01\n",
      "Lambda for n:1000 = 2.00\n",
      "Lambda for n:10000 = 2.01\n"
     ]
    }
   ],
   "source": [
    "n = [100, 1000, 10000]\n",
    "\n",
    "for i in n:\n",
    "    l = np.sum(np.random.poisson(2, i))/i\n",
    "    print('Lambda for n:{} = {:.2f}'.format(i, l))"
   ]
  },
  {
   "attachments": {},
   "cell_type": "markdown",
   "metadata": {
    "collapsed": false
   },
   "source": [
    "### b.) Show, that the point estimator for λ unbiased and consistent.\n",
    "\n",
    "see notes"
   ]
  }
 ],
 "metadata": {
  "kernelspec": {
   "display_name": "Python 3",
   "language": "python",
   "name": "python3"
  },
  "language_info": {
   "codemirror_mode": {
    "name": "ipython",
    "version": 3
   },
   "file_extension": ".py",
   "mimetype": "text/x-python",
   "name": "python",
   "nbconvert_exporter": "python",
   "pygments_lexer": "ipython3",
   "version": "3.8.10"
  }
 },
 "nbformat": 4,
 "nbformat_minor": 0
}
