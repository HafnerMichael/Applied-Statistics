{
 "cells": [
  {
   "cell_type": "markdown",
   "metadata": {
    "collapsed": false
   },
   "source": [
    "# Exercise Sheet 4"
   ]
  },
  {
   "attachments": {},
   "cell_type": "markdown",
   "metadata": {
    "collapsed": false
   },
   "source": [
    "## Exercise 14\n",
    "\n",
    "Given a discrete uniform distribution with the range of $W_X$ = {1, 2, 3, . . . , m}, it holds: $P[X = k] = \\frac{1}{m}$ for all k ∈ $W_X$ . Hereafter, m is assumed to be unknown. A sample $x_1, x_2, . . . , x_n$ in the size of n is drawn."
   ]
  },
  {
   "attachments": {},
   "cell_type": "markdown",
   "metadata": {},
   "source": [
    "### a.) Show that $\\^m = 2 \\cdot \\overline{x} - 1$ is an unbiased estimator \n",
    "\n",
    "see notes"
   ]
  },
  {
   "cell_type": "code",
   "execution_count": 42,
   "metadata": {
    "collapsed": false
   },
   "outputs": [],
   "source": [
    "import numpy as np\n",
    "\n",
    "np.random.seed(42)"
   ]
  },
  {
   "attachments": {},
   "cell_type": "markdown",
   "metadata": {
    "collapsed": false
   },
   "source": [
    "### b.) Illustrate the result from (a) through a simulation."
   ]
  },
  {
   "cell_type": "code",
   "execution_count": 43,
   "metadata": {
    "collapsed": false
   },
   "outputs": [],
   "source": [
    "def demand(m, n):\n",
    "    return np.floor(np.random.uniform(low=1, high=m, size=n))"
   ]
  },
  {
   "cell_type": "code",
   "execution_count": 44,
   "metadata": {
    "collapsed": false
   },
   "outputs": [],
   "source": [
    "def simu(m, n):\n",
    "    x_bar = np.mean(demand(m, n))\n",
    "    return 2 * x_bar - 1"
   ]
  },
  {
   "cell_type": "code",
   "execution_count": 100,
   "metadata": {
    "collapsed": false
   },
   "outputs": [],
   "source": [
    "def control():\n",
    "    m = 3500\n",
    "    # the higher n gets, the better our estimator will work\n",
    "    n = 100\n",
    "    return simu(m,n)"
   ]
  },
  {
   "cell_type": "code",
   "execution_count": 106,
   "metadata": {
    "collapsed": false
   },
   "outputs": [
    {
     "name": "stdout",
     "output_type": "stream",
     "text": [
      "Estimator for m: 3931\n"
     ]
    }
   ],
   "source": [
    "m = int(np.ceil(control()))\n",
    "print('Estimator for m: {}'.format(m))"
   ]
  },
  {
   "attachments": {},
   "cell_type": "markdown",
   "metadata": {},
   "source": [
    "### c.) At an event tickets with numbers 1, 2, 3, . . . were sold. A tombola took place where from all tickets the numbers 34, 56, 17, 22, 23, 88 were drawn. How many visitors were approximately at the event? Why is the usage of this estimator not entirely correct?\n",
    "\n",
    "see notes"
   ]
  }
 ],
 "metadata": {
  "kernelspec": {
   "display_name": "Python 3",
   "language": "python",
   "name": "python3"
  },
  "language_info": {
   "codemirror_mode": {
    "name": "ipython",
    "version": 2
   },
   "file_extension": ".py",
   "mimetype": "text/x-python",
   "name": "python",
   "nbconvert_exporter": "python",
   "pygments_lexer": "ipython2",
   "version": "2.7.6"
  }
 },
 "nbformat": 4,
 "nbformat_minor": 0
}
