{
 "cells": [
  {
   "cell_type": "markdown",
   "metadata": {
    "collapsed": false
   },
   "source": [
    "# Exercise Sheet 4"
   ]
  },
  {
   "attachments": {},
   "cell_type": "markdown",
   "metadata": {
    "collapsed": false
   },
   "source": [
    "## Exercise 12\n",
    "\n",
    "A car rental station offers 3 different types of cars and observes, that customers choose\n",
    "those with the following probabilities (we assume that cars are always rent for exactly\n",
    "one day):\n",
    "\n",
    "|   Type k of car   |   1   |   2   |   3   |\n",
    "|-------|-------|-------|-------|\n",
    "|   P[X=k]  |   0.25    |   0.15    | 0.4 |\n",
    "\n",
    "The station has 5 cars of type 1, 6 of type 2 and another 6 of type 3. The number of\n",
    "customers per day is approximately normal distributed with mean 16 and standard\n",
    "deviation 2. Estimate the probability that all customers’ requests can be fulfilled by\n",
    "implementing a suitable simulation."
   ]
  },
  {
   "cell_type": "code",
   "execution_count": 7,
   "metadata": {
    "collapsed": false
   },
   "outputs": [],
   "source": [
    "import numpy as np\n",
    "import scipy.stats as stats\n",
    "\n",
    "np.random.seed(42)"
   ]
  },
  {
   "cell_type": "code",
   "execution_count": 8,
   "metadata": {
    "collapsed": false
   },
   "outputs": [],
   "source": [
    "CUS_MEAN = 16\n",
    "CUS_STDDEV = 2\n",
    "\n",
    "def demand_customer():\n",
    "    return int(np.floor(np.random.normal(loc=CUS_MEAN, scale=CUS_STDDEV)))"
   ]
  },
  {
   "cell_type": "code",
   "execution_count": 9,
   "metadata": {
    "collapsed": false
   },
   "outputs": [],
   "source": [
    "P_CAR_1 = 0.25\n",
    "P_CAR_2 = 0.35\n",
    "P_CAR_3 = 0.4\n",
    "\n",
    "def demand_car():\n",
    "    dist = stats.multinomial(n=1, p=[P_CAR_1, P_CAR_2, P_CAR_3])\n",
    "    return int(np.where(dist.rvs(1)==1)[1])+1 #to start from 1 and not 0"
   ]
  },
  {
   "cell_type": "code",
   "execution_count": 10,
   "metadata": {
    "collapsed": false
   },
   "outputs": [],
   "source": [
    "def simu():\n",
    "    n_customer = demand_customer()\n",
    "    cars = [5, 6, 6]\n",
    "    for i in range(n_customer):\n",
    "        requested_car = demand_car()\n",
    "        if cars[requested_car-1] == 0:\n",
    "            return 0\n",
    "        cars[requested_car-1] -= 1\n",
    "    return 1"
   ]
  },
  {
   "cell_type": "code",
   "execution_count": 11,
   "metadata": {
    "collapsed": false
   },
   "outputs": [],
   "source": [
    "def control(times):\n",
    "    sample = [simu() for _ in range(times)]\n",
    "    return np.sum(sample) / times"
   ]
  },
  {
   "cell_type": "code",
   "execution_count": 12,
   "metadata": {
    "collapsed": false
   },
   "outputs": [
    {
     "name": "stdout",
     "output_type": "stream",
     "text": [
      "Probability that all customers’ requests can be fulfilled: 22.60%\n"
     ]
    }
   ],
   "source": [
    "trails = 2000\n",
    "prop = control(trails)\n",
    "print('Probability that all customers’ requests can be fulfilled: {:.2f}%'.format(prop*100))"
   ]
  }
 ],
 "metadata": {
  "kernelspec": {
   "display_name": "Python 3",
   "language": "python",
   "name": "python3"
  },
  "language_info": {
   "codemirror_mode": {
    "name": "ipython",
    "version": 3
   },
   "file_extension": ".py",
   "mimetype": "text/x-python",
   "name": "python",
   "nbconvert_exporter": "python",
   "pygments_lexer": "ipython3",
   "version": "3.8.10"
  }
 },
 "nbformat": 4,
 "nbformat_minor": 0
}
