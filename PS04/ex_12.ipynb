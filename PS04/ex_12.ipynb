{
 "cells": [
  {
   "cell_type": "markdown",
   "source": [
    "# Exercise Sheet 4"
   ],
   "metadata": {
    "collapsed": false
   }
  },
  {
   "cell_type": "markdown",
   "source": [
    "## Exercise 12"
   ],
   "metadata": {
    "collapsed": false
   }
  },
  {
   "cell_type": "code",
   "execution_count": 40,
   "outputs": [],
   "source": [
    "import numpy as np\n",
    "import scipy.stats as stats\n",
    "\n",
    "np.random.seed(42)"
   ],
   "metadata": {
    "collapsed": false
   }
  },
  {
   "cell_type": "code",
   "execution_count": 41,
   "outputs": [],
   "source": [
    "CUS_MEAN = 16\n",
    "CUS_STDDEV = 2\n",
    "\n",
    "def demand_customer():\n",
    "    return int(np.floor(np.random.normal(loc=CUS_MEAN, scale=CUS_STDDEV)))"
   ],
   "metadata": {
    "collapsed": false
   }
  },
  {
   "cell_type": "code",
   "execution_count": 42,
   "outputs": [],
   "source": [
    "P_CAR_1 = 0.25\n",
    "P_CAR_2 = 0.35\n",
    "P_CAR_3 = 0.4\n",
    "\n",
    "def demand_car():\n",
    "    dist = stats.multinomial(n=1, p=[P_CAR_1, P_CAR_2, P_CAR_3])\n",
    "    return int(np.where(dist.rvs(1)==1)[1])+1 #to start from 1 and not 0"
   ],
   "metadata": {
    "collapsed": false
   }
  },
  {
   "cell_type": "code",
   "execution_count": 43,
   "outputs": [],
   "source": [
    "def simu():\n",
    "    n_customer = demand_customer()\n",
    "    cars = [5, 6, 6]\n",
    "    for i in range(n_customer):\n",
    "        requested_car = demand_car()\n",
    "        if cars[requested_car-1] == 0:\n",
    "            return 0\n",
    "        cars[requested_car-1] -= 1\n",
    "    return 1"
   ],
   "metadata": {
    "collapsed": false
   }
  },
  {
   "cell_type": "code",
   "execution_count": 44,
   "outputs": [],
   "source": [
    "def control(times):\n",
    "    sample = [simu() for _ in range(times)]\n",
    "    return np.sum(sample) / times"
   ],
   "metadata": {
    "collapsed": false
   }
  },
  {
   "cell_type": "code",
   "execution_count": 45,
   "outputs": [
    {
     "name": "stdout",
     "output_type": "stream",
     "text": [
      "Probability that all customers’ requests can be fulfilled: 22.60%\n"
     ]
    }
   ],
   "source": [
    "trails = 2000\n",
    "prop = control(trails)\n",
    "print('Probability that all customers’ requests can be fulfilled: {:.2f}%'.format(prop*100))"
   ],
   "metadata": {
    "collapsed": false
   }
  }
 ],
 "metadata": {
  "kernelspec": {
   "display_name": "Python 3",
   "language": "python",
   "name": "python3"
  },
  "language_info": {
   "codemirror_mode": {
    "name": "ipython",
    "version": 2
   },
   "file_extension": ".py",
   "mimetype": "text/x-python",
   "name": "python",
   "nbconvert_exporter": "python",
   "pygments_lexer": "ipython2",
   "version": "2.7.6"
  }
 },
 "nbformat": 4,
 "nbformat_minor": 0
}
